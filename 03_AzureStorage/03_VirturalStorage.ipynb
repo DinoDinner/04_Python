{
 "cells": [
  {
   "cell_type": "code",
   "execution_count": null,
   "metadata": {},
   "outputs": [],
   "source": [
    "#   가상 윈도우 만들기. 지역은 storage와 같은 지역으로 하는게 빠름\n",
    "\n",
    "#   라이선싱 반드시 체크!\n",
    "#   생성된 VM의 public ip를 이용하면 됨\n",
    "\n",
    "#   rdp : ms vm remote\n",
    "#   ssh : linux 접근"
   ]
  },
  {
   "cell_type": "code",
   "execution_count": null,
   "metadata": {},
   "outputs": [],
   "source": [
    "#   storge 의 file service에 들어가서\n",
    "#   새 파일 공유\n",
    "#   트랜젝션 최적화됨 : 유동적으로 사용할 수 있은 case\n",
    "\n",
    "#   VM에 접속해서 powershell를 통해 storage 계정키를 사용하면 드라이브가 추가된다!"
   ]
  },
  {
   "cell_type": "code",
   "execution_count": 1,
   "metadata": {},
   "outputs": [
    {
     "name": "stdout",
     "output_type": "stream",
     "text": [
      "Requirement already satisfied: azure-storage-file in c:\\users\\windows11\\anaconda3\\lib\\site-packages (2.1.0)\n",
      "Requirement already satisfied: azure-storage-common~=2.1 in c:\\users\\windows11\\anaconda3\\lib\\site-packages (from azure-storage-file) (2.1.0)\n",
      "Requirement already satisfied: azure-common>=1.1.5 in c:\\users\\windows11\\anaconda3\\lib\\site-packages (from azure-storage-file) (1.1.28)\n",
      "Requirement already satisfied: requests in c:\\users\\windows11\\anaconda3\\lib\\site-packages (from azure-storage-common~=2.1->azure-storage-file) (2.28.1)\n",
      "Requirement already satisfied: cryptography in c:\\users\\windows11\\anaconda3\\lib\\site-packages (from azure-storage-common~=2.1->azure-storage-file) (39.0.1)\n",
      "Requirement already satisfied: python-dateutil in c:\\users\\windows11\\appdata\\roaming\\python\\python310\\site-packages (from azure-storage-common~=2.1->azure-storage-file) (2.8.2)\n",
      "Requirement already satisfied: cffi>=1.12 in c:\\users\\windows11\\anaconda3\\lib\\site-packages (from cryptography->azure-storage-common~=2.1->azure-storage-file) (1.15.1)\n",
      "Requirement already satisfied: six>=1.5 in c:\\users\\windows11\\appdata\\roaming\\python\\python310\\site-packages (from python-dateutil->azure-storage-common~=2.1->azure-storage-file) (1.16.0)\n",
      "Requirement already satisfied: idna<4,>=2.5 in c:\\users\\windows11\\anaconda3\\lib\\site-packages (from requests->azure-storage-common~=2.1->azure-storage-file) (3.4)\n",
      "Requirement already satisfied: certifi>=2017.4.17 in c:\\users\\windows11\\anaconda3\\lib\\site-packages (from requests->azure-storage-common~=2.1->azure-storage-file) (2022.12.7)\n",
      "Requirement already satisfied: charset-normalizer<3,>=2 in c:\\users\\windows11\\anaconda3\\lib\\site-packages (from requests->azure-storage-common~=2.1->azure-storage-file) (2.0.4)\n",
      "Requirement already satisfied: urllib3<1.27,>=1.21.1 in c:\\users\\windows11\\anaconda3\\lib\\site-packages (from requests->azure-storage-common~=2.1->azure-storage-file) (1.26.14)\n",
      "Requirement already satisfied: pycparser in c:\\users\\windows11\\anaconda3\\lib\\site-packages (from cffi>=1.12->cryptography->azure-storage-common~=2.1->azure-storage-file) (2.21)\n",
      "Note: you may need to restart the kernel to use updated packages.\n"
     ]
    }
   ],
   "source": [
    "%pip install azure-storage-file"
   ]
  },
  {
   "cell_type": "code",
   "execution_count": 1,
   "metadata": {},
   "outputs": [],
   "source": [
    "from azure.storage.file import  FileService\n",
    "file_service = FileService(account_name='labuser10storage1',account_key='yV7rRbPg7ykSrPqTvVJc8IOOJcMnTVscpV1D8tOG0HpJ1xJI4bA6fxz/6SHFJpuP1J6V+xfX2r6A+AStA3qaJQ==')"
   ]
  },
  {
   "cell_type": "code",
   "execution_count": 14,
   "metadata": {},
   "outputs": [
    {
     "data": {
      "text/plain": [
       "False"
      ]
     },
     "execution_count": 14,
     "metadata": {},
     "output_type": "execute_result"
    }
   ],
   "source": [
    "#   새 저장공간 만들기\n",
    "\n",
    "file_service.create_share('myshare')    # storage 파일 공유에 myshare라는 용량이 생김"
   ]
  },
  {
   "cell_type": "code",
   "execution_count": 7,
   "metadata": {},
   "outputs": [
    {
     "data": {
      "text/plain": [
       "False"
      ]
     },
     "execution_count": 7,
     "metadata": {},
     "output_type": "execute_result"
    }
   ],
   "source": [
    "#   새로운 디렉토리 만들기\n",
    "\n",
    "file_service.create_directory('myshare','sampledir')"
   ]
  },
  {
   "cell_type": "code",
   "execution_count": 10,
   "metadata": {},
   "outputs": [],
   "source": [
    "#   새로운 패키지 호출\n",
    "\n",
    "from azure.storage.file import ContentSettings\n",
    "file_service.create_file_from_path(\n",
    "    'myshare',   # 어떤 저장 공간에 넣을건가?\n",
    "    'sampledir', # 어느 디렉토리에 파일을 넣을건가?\n",
    "    'myfile.jfif',  # 어떤 이름으로 저장할 건가?\n",
    "    '../99_Src/Azure/hello.jfif'    # 어떤 파일을 넣을건가?\n",
    ")\n",
    "\n",
    "# my share에 my file이란 이름으로 생성되었있음. (확장자 없음)"
   ]
  },
  {
   "cell_type": "code",
   "execution_count": 38,
   "metadata": {},
   "outputs": [
    {
     "name": "stdout",
     "output_type": "stream",
     "text": [
      "myfile\n",
      "sampledir\n"
     ]
    }
   ],
   "source": [
    "#   directory 내용의 확인\n",
    "\n",
    "generator = file_service.list_directories_and_files('myshare') # myshare에 대해서 list를 확인해줘 / generator 라는 변수에 저장\n",
    "for file_or_dir in generator:   # for 문으로 여러 파일 확인\n",
    "    print(file_or_dir.name)"
   ]
  },
  {
   "cell_type": "code",
   "execution_count": 39,
   "metadata": {},
   "outputs": [
    {
     "data": {
      "text/plain": [
       "<azure.storage.file.models.File at 0x1bdfb193430>"
      ]
     },
     "execution_count": 39,
     "metadata": {},
     "output_type": "execute_result"
    }
   ],
   "source": [
    "#   파일을 가져오는 코드\n",
    "\n",
    "file_service.get_file_to_path('myshare',None, 'myfile', 'hello_DOWNLOAD.jpeg')    # share 된 파일을 다운로드 받을 수 있음"
   ]
  },
  {
   "cell_type": "code",
   "execution_count": 40,
   "metadata": {},
   "outputs": [],
   "source": [
    "#   snapshot 만들기\n",
    "#   https://library.gabia.com/contents/infrahosting/9063/ -> snapshot이란?\n",
    "\n",
    "metadata = {'foo':'bar'}\n",
    "snapshot = file_service.snapshot_share('myshare',metadata=metadata)\n",
    "\n",
    "#   myshare 저장공간에 snapshot이 추가된 걸 알 수 있다."
   ]
  },
  {
   "cell_type": "code",
   "execution_count": 41,
   "metadata": {},
   "outputs": [],
   "source": [
    "share = list(file_service.list_shares(include_snapshots=True))  # snapshot이 포함되어 있는 리스트를 가져와라"
   ]
  },
  {
   "cell_type": "code",
   "execution_count": 43,
   "metadata": {},
   "outputs": [
    {
     "ename": "TypeError",
     "evalue": "list() takes no keyword arguments",
     "output_type": "error",
     "traceback": [
      "\u001b[1;31m---------------------------------------------------------------------------\u001b[0m",
      "\u001b[1;31mTypeError\u001b[0m                                 Traceback (most recent call last)",
      "Cell \u001b[1;32mIn[43], line 1\u001b[0m\n\u001b[1;32m----> 1\u001b[0m directories_and_file \u001b[39m=\u001b[39m \u001b[39mlist\u001b[39;49m(file_service\u001b[39m.\u001b[39;49mlist_directories_and_files(\u001b[39m'\u001b[39;49m\u001b[39mmyshare\u001b[39;49m\u001b[39m'\u001b[39;49m), \u001b[39m#   myshare에 지정된 디렉토리를 가져오겠다\u001b[39;49;00m\n\u001b[0;32m      2\u001b[0m                             snapshots\u001b[39m=\u001b[39;49m\u001b[39m'\u001b[39;49m\u001b[39m2023-04-20T06:15:37.0000000Z\u001b[39;49m\u001b[39m'\u001b[39;49m)\n\u001b[0;32m      3\u001b[0m \u001b[39mfor\u001b[39;00m file_or_dir \u001b[39min\u001b[39;00m directories_and_file:\n\u001b[0;32m      4\u001b[0m     \u001b[39mprint\u001b[39m(file_or_dir\u001b[39m.\u001b[39mname)\n",
      "\u001b[1;31mTypeError\u001b[0m: list() takes no keyword arguments"
     ]
    }
   ],
   "source": [
    "directories_and_file = list(file_service.list_directories_and_files('myshare'), #   myshare에 지정된 디렉토리를 가져오겠다\n",
    "                            snapshots='2023-04-20T06:15:37.0000000Z')\n",
    "for file_or_dir in directories_and_file:\n",
    "    print(file_or_dir.name)"
   ]
  },
  {
   "cell_type": "code",
   "execution_count": 44,
   "metadata": {},
   "outputs": [
    {
     "data": {
      "text/plain": [
       "True"
      ]
     },
     "execution_count": 44,
     "metadata": {},
     "output_type": "execute_result"
    }
   ],
   "source": [
    "# snapshot 삭제하는 방법\n",
    "\n",
    "file_service.delete_share('myshare',snapshot='2023-04-20T06:15:37.0000000Z')"
   ]
  },
  {
   "cell_type": "code",
   "execution_count": 50,
   "metadata": {},
   "outputs": [
    {
     "name": "stderr",
     "output_type": "stream",
     "text": [
      "Client-Request-ID=2fd77696-df44-11ed-96aa-78af08a30baf Retry policy did not allow for a retry: Server-Timestamp=Thu, 20 Apr 2023 06:25:46 GMT, Server-Request-ID=59ca8fe3-901a-005f-6e50-73935a000000, HTTP status code=404, Exception=The specified resource does not exist. ErrorCode: ResourceNotFound<?xml version=\"1.0\" encoding=\"utf-8\"?><Error><Code>ResourceNotFound</Code><Message>The specified resource does not exist.RequestId:59ca8fe3-901a-005f-6e50-73935a000000Time:2023-04-20T06:25:47.2461994Z</Message></Error>.\n"
     ]
    },
    {
     "ename": "AzureMissingResourceHttpError",
     "evalue": "The specified resource does not exist. ErrorCode: ResourceNotFound\n<?xml version=\"1.0\" encoding=\"utf-8\"?><Error><Code>ResourceNotFound</Code><Message>The specified resource does not exist.\nRequestId:59ca8fe3-901a-005f-6e50-73935a000000\nTime:2023-04-20T06:25:47.2461994Z</Message></Error>",
     "output_type": "error",
     "traceback": [
      "\u001b[1;31m---------------------------------------------------------------------------\u001b[0m",
      "\u001b[1;31mAzureMissingResourceHttpError\u001b[0m             Traceback (most recent call last)",
      "Cell \u001b[1;32mIn[50], line 1\u001b[0m\n\u001b[1;32m----> 1\u001b[0m file_service\u001b[39m.\u001b[39;49mdelete_file(\u001b[39m'\u001b[39;49m\u001b[39mmyshare\u001b[39;49m\u001b[39m'\u001b[39;49m,\u001b[39mNone\u001b[39;49;00m,\u001b[39m'\u001b[39;49m\u001b[39mmyfile\u001b[39;49m\u001b[39m'\u001b[39;49m)\n",
      "File \u001b[1;32mc:\\Users\\Windows11\\anaconda3\\lib\\site-packages\\azure\\storage\\file\\fileservice.py:1827\u001b[0m, in \u001b[0;36mFileService.delete_file\u001b[1;34m(self, share_name, directory_name, file_name, timeout)\u001b[0m\n\u001b[0;32m   1824\u001b[0m request\u001b[39m.\u001b[39mpath \u001b[39m=\u001b[39m _get_path(share_name, directory_name, file_name)\n\u001b[0;32m   1825\u001b[0m request\u001b[39m.\u001b[39mquery \u001b[39m=\u001b[39m {\u001b[39m'\u001b[39m\u001b[39mtimeout\u001b[39m\u001b[39m'\u001b[39m: _int_to_str(timeout)}\n\u001b[1;32m-> 1827\u001b[0m \u001b[39mself\u001b[39;49m\u001b[39m.\u001b[39;49m_perform_request(request)\n",
      "File \u001b[1;32mc:\\Users\\Windows11\\anaconda3\\lib\\site-packages\\azure\\storage\\common\\storageclient.py:446\u001b[0m, in \u001b[0;36mStorageClient._perform_request\u001b[1;34m(self, request, parser, parser_args, operation_context, expected_errors)\u001b[0m\n\u001b[0;32m    439\u001b[0m     \u001b[39melse\u001b[39;00m:\n\u001b[0;32m    440\u001b[0m         logger\u001b[39m.\u001b[39merror(\u001b[39m\"\u001b[39m\u001b[39m%s\u001b[39;00m\u001b[39m Retry policy did not allow for a retry: \u001b[39m\u001b[39m\"\u001b[39m\n\u001b[0;32m    441\u001b[0m                      \u001b[39m\"\u001b[39m\u001b[39m%s\u001b[39;00m\u001b[39m, HTTP status code=\u001b[39m\u001b[39m%s\u001b[39;00m\u001b[39m, Exception=\u001b[39m\u001b[39m%s\u001b[39;00m\u001b[39m.\u001b[39m\u001b[39m\"\u001b[39m,\n\u001b[0;32m    442\u001b[0m                      client_request_id_prefix,\n\u001b[0;32m    443\u001b[0m                      timestamp_and_request_id,\n\u001b[0;32m    444\u001b[0m                      status_code,\n\u001b[0;32m    445\u001b[0m                      exception_str_in_one_line)\n\u001b[1;32m--> 446\u001b[0m         \u001b[39mraise\u001b[39;00m ex\n\u001b[0;32m    447\u001b[0m \u001b[39mfinally\u001b[39;00m:\n\u001b[0;32m    448\u001b[0m     \u001b[39m# If this is a location locked operation and the location is not set, \u001b[39;00m\n\u001b[0;32m    449\u001b[0m     \u001b[39m# this is the first request of that operation. Set the location to \u001b[39;00m\n\u001b[0;32m    450\u001b[0m     \u001b[39m# be used for subsequent requests in the operation.\u001b[39;00m\n\u001b[0;32m    451\u001b[0m     \u001b[39mif\u001b[39;00m operation_context\u001b[39m.\u001b[39mlocation_lock \u001b[39mand\u001b[39;00m \u001b[39mnot\u001b[39;00m operation_context\u001b[39m.\u001b[39mhost_location:\n\u001b[0;32m    452\u001b[0m         \u001b[39m# note: to cover the emulator scenario, the host_location is grabbed\u001b[39;00m\n\u001b[0;32m    453\u001b[0m         \u001b[39m# from request.host_locations(which includes the dev account name)\u001b[39;00m\n\u001b[0;32m    454\u001b[0m         \u001b[39m# instead of request.host(which at this point no longer includes the dev account name)\u001b[39;00m\n",
      "File \u001b[1;32mc:\\Users\\Windows11\\anaconda3\\lib\\site-packages\\azure\\storage\\common\\storageclient.py:374\u001b[0m, in \u001b[0;36mStorageClient._perform_request\u001b[1;34m(self, request, parser, parser_args, operation_context, expected_errors)\u001b[0m\n\u001b[0;32m    372\u001b[0m \u001b[39mexcept\u001b[39;00m AzureException \u001b[39mas\u001b[39;00m ex:\n\u001b[0;32m    373\u001b[0m     retry_context\u001b[39m.\u001b[39mexception \u001b[39m=\u001b[39m ex\n\u001b[1;32m--> 374\u001b[0m     \u001b[39mraise\u001b[39;00m ex\n\u001b[0;32m    375\u001b[0m \u001b[39mexcept\u001b[39;00m \u001b[39mException\u001b[39;00m \u001b[39mas\u001b[39;00m ex:\n\u001b[0;32m    376\u001b[0m     retry_context\u001b[39m.\u001b[39mexception \u001b[39m=\u001b[39m ex\n",
      "File \u001b[1;32mc:\\Users\\Windows11\\anaconda3\\lib\\site-packages\\azure\\storage\\common\\storageclient.py:359\u001b[0m, in \u001b[0;36mStorageClient._perform_request\u001b[1;34m(self, request, parser, parser_args, operation_context, expected_errors)\u001b[0m\n\u001b[0;32m    355\u001b[0m \u001b[39m# Parse and wrap HTTP errors in AzureHttpError which inherits from AzureException\u001b[39;00m\n\u001b[0;32m    356\u001b[0m \u001b[39mif\u001b[39;00m response\u001b[39m.\u001b[39mstatus \u001b[39m>\u001b[39m\u001b[39m=\u001b[39m \u001b[39m300\u001b[39m:\n\u001b[0;32m    357\u001b[0m     \u001b[39m# This exception will be caught by the general error handler\u001b[39;00m\n\u001b[0;32m    358\u001b[0m     \u001b[39m# and raised as an azure http exception\u001b[39;00m\n\u001b[1;32m--> 359\u001b[0m     _http_error_handler(\n\u001b[0;32m    360\u001b[0m         HTTPError(response\u001b[39m.\u001b[39;49mstatus, response\u001b[39m.\u001b[39;49mmessage, response\u001b[39m.\u001b[39;49mheaders, response\u001b[39m.\u001b[39;49mbody))\n\u001b[0;32m    362\u001b[0m \u001b[39m# Parse the response\u001b[39;00m\n\u001b[0;32m    363\u001b[0m \u001b[39mif\u001b[39;00m parser:\n",
      "File \u001b[1;32mc:\\Users\\Windows11\\anaconda3\\lib\\site-packages\\azure\\storage\\common\\_error.py:115\u001b[0m, in \u001b[0;36m_http_error_handler\u001b[1;34m(http_error)\u001b[0m\n\u001b[0;32m    112\u001b[0m ex \u001b[39m=\u001b[39m AzureHttpError(message, http_error\u001b[39m.\u001b[39mstatus)\n\u001b[0;32m    113\u001b[0m ex\u001b[39m.\u001b[39merror_code \u001b[39m=\u001b[39m error_code\n\u001b[1;32m--> 115\u001b[0m \u001b[39mraise\u001b[39;00m ex\n",
      "\u001b[1;31mAzureMissingResourceHttpError\u001b[0m: The specified resource does not exist. ErrorCode: ResourceNotFound\n<?xml version=\"1.0\" encoding=\"utf-8\"?><Error><Code>ResourceNotFound</Code><Message>The specified resource does not exist.\nRequestId:59ca8fe3-901a-005f-6e50-73935a000000\nTime:2023-04-20T06:25:47.2461994Z</Message></Error>"
     ]
    }
   ],
   "source": [
    "file_service.delete_file('myshare',None,'myfile')"
   ]
  },
  {
   "cell_type": "code",
   "execution_count": 51,
   "metadata": {},
   "outputs": [
    {
     "data": {
      "text/plain": [
       "True"
      ]
     },
     "execution_count": 51,
     "metadata": {},
     "output_type": "execute_result"
    }
   ],
   "source": [
    "file_service.delete_share('myshare')    # fileshare를 삭제하고 싶으면 shapshot을 먼저 삭제해야한다."
   ]
  }
 ],
 "metadata": {
  "kernelspec": {
   "display_name": "base",
   "language": "python",
   "name": "python3"
  },
  "language_info": {
   "codemirror_mode": {
    "name": "ipython",
    "version": 3
   },
   "file_extension": ".py",
   "mimetype": "text/x-python",
   "name": "python",
   "nbconvert_exporter": "python",
   "pygments_lexer": "ipython3",
   "version": "3.10.9"
  },
  "orig_nbformat": 4
 },
 "nbformat": 4,
 "nbformat_minor": 2
}
