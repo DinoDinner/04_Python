{
 "cells": [
  {
   "cell_type": "code",
   "execution_count": 2,
   "metadata": {},
   "outputs": [
    {
     "name": "stdout",
     "output_type": "stream",
     "text": [
      "Requirement already satisfied: azure-storage-blob in c:\\users\\windows11\\anaconda3\\lib\\site-packages (12.16.0)\n",
      "Requirement already satisfied: azure-identity in c:\\users\\windows11\\anaconda3\\lib\\site-packages (1.12.0)\n",
      "Requirement already satisfied: isodate>=0.6.1 in c:\\users\\windows11\\anaconda3\\lib\\site-packages (from azure-storage-blob) (0.6.1)\n",
      "Requirement already satisfied: cryptography>=2.1.4 in c:\\users\\windows11\\anaconda3\\lib\\site-packages (from azure-storage-blob) (39.0.1)\n",
      "Requirement already satisfied: azure-core<2.0.0,>=1.26.0 in c:\\users\\windows11\\anaconda3\\lib\\site-packages (from azure-storage-blob) (1.26.4)\n",
      "Requirement already satisfied: typing-extensions>=4.0.1 in c:\\users\\windows11\\anaconda3\\lib\\site-packages (from azure-storage-blob) (4.4.0)\n",
      "Requirement already satisfied: msal-extensions<2.0.0,>=0.3.0 in c:\\users\\windows11\\anaconda3\\lib\\site-packages (from azure-identity) (1.0.0)\n",
      "Requirement already satisfied: msal<2.0.0,>=1.12.0 in c:\\users\\windows11\\anaconda3\\lib\\site-packages (from azure-identity) (1.22.0)\n",
      "Requirement already satisfied: six>=1.12.0 in c:\\users\\windows11\\appdata\\roaming\\python\\python310\\site-packages (from azure-identity) (1.16.0)\n",
      "Requirement already satisfied: requests>=2.18.4 in c:\\users\\windows11\\anaconda3\\lib\\site-packages (from azure-core<2.0.0,>=1.26.0->azure-storage-blob) (2.28.1)\n",
      "Requirement already satisfied: cffi>=1.12 in c:\\users\\windows11\\anaconda3\\lib\\site-packages (from cryptography>=2.1.4->azure-storage-blob) (1.15.1)\n",
      "Requirement already satisfied: PyJWT[crypto]<3,>=1.0.0 in c:\\users\\windows11\\anaconda3\\lib\\site-packages (from msal<2.0.0,>=1.12.0->azure-identity) (2.4.0)\n",
      "Requirement already satisfied: portalocker<3,>=1.6 in c:\\users\\windows11\\anaconda3\\lib\\site-packages (from msal-extensions<2.0.0,>=0.3.0->azure-identity) (2.7.0)\n",
      "Requirement already satisfied: pycparser in c:\\users\\windows11\\anaconda3\\lib\\site-packages (from cffi>=1.12->cryptography>=2.1.4->azure-storage-blob) (2.21)\n",
      "Requirement already satisfied: pywin32>=226 in c:\\users\\windows11\\appdata\\roaming\\python\\python310\\site-packages (from portalocker<3,>=1.6->msal-extensions<2.0.0,>=0.3.0->azure-identity) (306)\n",
      "Requirement already satisfied: certifi>=2017.4.17 in c:\\users\\windows11\\anaconda3\\lib\\site-packages (from requests>=2.18.4->azure-core<2.0.0,>=1.26.0->azure-storage-blob) (2022.12.7)\n",
      "Requirement already satisfied: idna<4,>=2.5 in c:\\users\\windows11\\anaconda3\\lib\\site-packages (from requests>=2.18.4->azure-core<2.0.0,>=1.26.0->azure-storage-blob) (3.4)\n",
      "Requirement already satisfied: urllib3<1.27,>=1.21.1 in c:\\users\\windows11\\anaconda3\\lib\\site-packages (from requests>=2.18.4->azure-core<2.0.0,>=1.26.0->azure-storage-blob) (1.26.14)\n",
      "Requirement already satisfied: charset-normalizer<3,>=2 in c:\\users\\windows11\\anaconda3\\lib\\site-packages (from requests>=2.18.4->azure-core<2.0.0,>=1.26.0->azure-storage-blob) (2.0.4)\n",
      "Note: you may need to restart the kernel to use updated packages.\n"
     ]
    }
   ],
   "source": [
    "%pip install azure-storage-blob azure-identity"
   ]
  },
  {
   "cell_type": "code",
   "execution_count": 3,
   "metadata": {},
   "outputs": [],
   "source": [
    "import os, uuid\n",
    "from azure.identity import DefaultAzureCredential\n",
    "from azure.storage.blob import BlobServiceClient, BlobClient, ContainerClient"
   ]
  },
  {
   "cell_type": "code",
   "execution_count": 4,
   "metadata": {},
   "outputs": [],
   "source": [
    "# Blob Serveices에 접속\n",
    "\n",
    "connect_str = 'DefaultEndpointsProtocol=https;AccountName=labuser10storage1;AccountKey=yV7rRbPg7ykSrPqTvVJc8IOOJcMnTVscpV1D8tOG0HpJ1xJI4bA6fxz/6SHFJpuP1J6V+xfX2r6A+AStA3qaJQ==;EndpointSuffix=core.windows.net'\n",
    "blob_service_client = BlobServiceClient.from_connection_string(connect_str)\n",
    "# BlobServiceClient 에게 명령을 줌\n",
    "# 이름 하고 key가 필요함\n",
    "# blob_service_client가 BlobServiceClient에 연결된 상태를 나타내는 객체가 됨"
   ]
  },
  {
   "cell_type": "code",
   "execution_count": 9,
   "metadata": {},
   "outputs": [
    {
     "ename": "ResourceExistsError",
     "evalue": "The specified container already exists.\nRequestId:5df06c14-501e-00a7-80e1-725847000000\nTime:2023-04-19T17:08:26.7364089Z\nErrorCode:ContainerAlreadyExists\nContent: <?xml version=\"1.0\" encoding=\"utf-8\"?><Error><Code>ContainerAlreadyExists</Code><Message>The specified container already exists.\nRequestId:5df06c14-501e-00a7-80e1-725847000000\nTime:2023-04-19T17:08:26.7364089Z</Message></Error>",
     "output_type": "error",
     "traceback": [
      "\u001b[1;31m---------------------------------------------------------------------------\u001b[0m",
      "\u001b[1;31mResourceExistsError\u001b[0m                       Traceback (most recent call last)",
      "Cell \u001b[1;32mIn[9], line 5\u001b[0m\n\u001b[0;32m      1\u001b[0m \u001b[39m# Container 만들기\u001b[39;00m\n\u001b[0;32m      3\u001b[0m container_name \u001b[39m=\u001b[39m \u001b[39m'\u001b[39m\u001b[39mtest2container\u001b[39m\u001b[39m'\u001b[39m\n\u001b[1;32m----> 5\u001b[0m container_client \u001b[39m=\u001b[39m blob_service_client\u001b[39m.\u001b[39;49mcreate_container(container_name)\n\u001b[0;32m      6\u001b[0m \u001b[39m# 소문자로 다 통일해서 쓰는게 나중에 오류를 막을 수 있다.\u001b[39;00m\n\u001b[0;32m      7\u001b[0m \u001b[39m# container_client에 값을 받아서 쓸 수 있도록 만듬\u001b[39;00m\n\u001b[0;32m      8\u001b[0m \n\u001b[0;32m      9\u001b[0m \u001b[39m# container가 azure container에 생성된 걸 확인 할 수 있음!\u001b[39;00m\n",
      "File \u001b[1;32mc:\\Users\\Windows11\\anaconda3\\lib\\site-packages\\azure\\core\\tracing\\decorator.py:76\u001b[0m, in \u001b[0;36mdistributed_trace.<locals>.decorator.<locals>.wrapper_use_tracer\u001b[1;34m(*args, **kwargs)\u001b[0m\n\u001b[0;32m     74\u001b[0m span_impl_type \u001b[39m=\u001b[39m settings\u001b[39m.\u001b[39mtracing_implementation()\n\u001b[0;32m     75\u001b[0m \u001b[39mif\u001b[39;00m span_impl_type \u001b[39mis\u001b[39;00m \u001b[39mNone\u001b[39;00m:\n\u001b[1;32m---> 76\u001b[0m     \u001b[39mreturn\u001b[39;00m func(\u001b[39m*\u001b[39margs, \u001b[39m*\u001b[39m\u001b[39m*\u001b[39mkwargs)\n\u001b[0;32m     78\u001b[0m \u001b[39m# Merge span is parameter is set, but only if no explicit parent are passed\u001b[39;00m\n\u001b[0;32m     79\u001b[0m \u001b[39mif\u001b[39;00m merge_span \u001b[39mand\u001b[39;00m \u001b[39mnot\u001b[39;00m passed_in_parent:\n",
      "File \u001b[1;32mc:\\Users\\Windows11\\anaconda3\\lib\\site-packages\\azure\\storage\\blob\\_blob_service_client.py:557\u001b[0m, in \u001b[0;36mBlobServiceClient.create_container\u001b[1;34m(self, name, metadata, public_access, **kwargs)\u001b[0m\n\u001b[0;32m    555\u001b[0m kwargs\u001b[39m.\u001b[39msetdefault(\u001b[39m'\u001b[39m\u001b[39mmerge_span\u001b[39m\u001b[39m'\u001b[39m, \u001b[39mTrue\u001b[39;00m)\n\u001b[0;32m    556\u001b[0m timeout \u001b[39m=\u001b[39m kwargs\u001b[39m.\u001b[39mpop(\u001b[39m'\u001b[39m\u001b[39mtimeout\u001b[39m\u001b[39m'\u001b[39m, \u001b[39mNone\u001b[39;00m)\n\u001b[1;32m--> 557\u001b[0m container\u001b[39m.\u001b[39mcreate_container(\n\u001b[0;32m    558\u001b[0m     metadata\u001b[39m=\u001b[39mmetadata, public_access\u001b[39m=\u001b[39mpublic_access, timeout\u001b[39m=\u001b[39mtimeout, \u001b[39m*\u001b[39m\u001b[39m*\u001b[39mkwargs)\n\u001b[0;32m    559\u001b[0m \u001b[39mreturn\u001b[39;00m container\n",
      "File \u001b[1;32mc:\\Users\\Windows11\\anaconda3\\lib\\site-packages\\azure\\core\\tracing\\decorator.py:76\u001b[0m, in \u001b[0;36mdistributed_trace.<locals>.decorator.<locals>.wrapper_use_tracer\u001b[1;34m(*args, **kwargs)\u001b[0m\n\u001b[0;32m     74\u001b[0m span_impl_type \u001b[39m=\u001b[39m settings\u001b[39m.\u001b[39mtracing_implementation()\n\u001b[0;32m     75\u001b[0m \u001b[39mif\u001b[39;00m span_impl_type \u001b[39mis\u001b[39;00m \u001b[39mNone\u001b[39;00m:\n\u001b[1;32m---> 76\u001b[0m     \u001b[39mreturn\u001b[39;00m func(\u001b[39m*\u001b[39margs, \u001b[39m*\u001b[39m\u001b[39m*\u001b[39mkwargs)\n\u001b[0;32m     78\u001b[0m \u001b[39m# Merge span is parameter is set, but only if no explicit parent are passed\u001b[39;00m\n\u001b[0;32m     79\u001b[0m \u001b[39mif\u001b[39;00m merge_span \u001b[39mand\u001b[39;00m \u001b[39mnot\u001b[39;00m passed_in_parent:\n",
      "File \u001b[1;32mc:\\Users\\Windows11\\anaconda3\\lib\\site-packages\\azure\\storage\\blob\\_container_client.py:320\u001b[0m, in \u001b[0;36mContainerClient.create_container\u001b[1;34m(self, metadata, public_access, **kwargs)\u001b[0m\n\u001b[0;32m    312\u001b[0m     \u001b[39mreturn\u001b[39;00m \u001b[39mself\u001b[39m\u001b[39m.\u001b[39m_client\u001b[39m.\u001b[39mcontainer\u001b[39m.\u001b[39mcreate( \u001b[39m# type: ignore\u001b[39;00m\n\u001b[0;32m    313\u001b[0m         timeout\u001b[39m=\u001b[39mtimeout,\n\u001b[0;32m    314\u001b[0m         access\u001b[39m=\u001b[39mpublic_access,\n\u001b[1;32m   (...)\u001b[0m\n\u001b[0;32m    317\u001b[0m         headers\u001b[39m=\u001b[39mheaders,\n\u001b[0;32m    318\u001b[0m         \u001b[39m*\u001b[39m\u001b[39m*\u001b[39mkwargs)\n\u001b[0;32m    319\u001b[0m \u001b[39mexcept\u001b[39;00m HttpResponseError \u001b[39mas\u001b[39;00m error:\n\u001b[1;32m--> 320\u001b[0m     process_storage_error(error)\n",
      "File \u001b[1;32mc:\\Users\\Windows11\\anaconda3\\lib\\site-packages\\azure\\storage\\blob\\_shared\\response_handlers.py:189\u001b[0m, in \u001b[0;36mprocess_storage_error\u001b[1;34m(storage_error)\u001b[0m\n\u001b[0;32m    186\u001b[0m error\u001b[39m.\u001b[39margs \u001b[39m=\u001b[39m (error\u001b[39m.\u001b[39mmessage,)\n\u001b[0;32m    187\u001b[0m \u001b[39mtry\u001b[39;00m:\n\u001b[0;32m    188\u001b[0m     \u001b[39m# `from None` prevents us from double printing the exception (suppresses generated layer error context)\u001b[39;00m\n\u001b[1;32m--> 189\u001b[0m     exec(\u001b[39m\"\u001b[39;49m\u001b[39mraise error from None\u001b[39;49m\u001b[39m\"\u001b[39;49m)   \u001b[39m# pylint: disable=exec-used # nosec\u001b[39;00m\n\u001b[0;32m    190\u001b[0m \u001b[39mexcept\u001b[39;00m \u001b[39mSyntaxError\u001b[39;00m:\n\u001b[0;32m    191\u001b[0m     \u001b[39mraise\u001b[39;00m error\n",
      "File \u001b[1;32m<string>:1\u001b[0m\n",
      "File \u001b[1;32mc:\\Users\\Windows11\\anaconda3\\lib\\site-packages\\azure\\storage\\blob\\_container_client.py:312\u001b[0m, in \u001b[0;36mContainerClient.create_container\u001b[1;34m(self, metadata, public_access, **kwargs)\u001b[0m\n\u001b[0;32m    310\u001b[0m container_cpk_scope_info \u001b[39m=\u001b[39m get_container_cpk_scope_info(kwargs)\n\u001b[0;32m    311\u001b[0m \u001b[39mtry\u001b[39;00m:\n\u001b[1;32m--> 312\u001b[0m     \u001b[39mreturn\u001b[39;00m \u001b[39mself\u001b[39m\u001b[39m.\u001b[39m_client\u001b[39m.\u001b[39mcontainer\u001b[39m.\u001b[39mcreate( \u001b[39m# type: ignore\u001b[39;00m\n\u001b[0;32m    313\u001b[0m         timeout\u001b[39m=\u001b[39mtimeout,\n\u001b[0;32m    314\u001b[0m         access\u001b[39m=\u001b[39mpublic_access,\n\u001b[0;32m    315\u001b[0m         container_cpk_scope_info\u001b[39m=\u001b[39mcontainer_cpk_scope_info,\n\u001b[0;32m    316\u001b[0m         \u001b[39mcls\u001b[39m\u001b[39m=\u001b[39mreturn_response_headers,\n\u001b[0;32m    317\u001b[0m         headers\u001b[39m=\u001b[39mheaders,\n\u001b[0;32m    318\u001b[0m         \u001b[39m*\u001b[39m\u001b[39m*\u001b[39mkwargs)\n\u001b[0;32m    319\u001b[0m \u001b[39mexcept\u001b[39;00m HttpResponseError \u001b[39mas\u001b[39;00m error:\n\u001b[0;32m    320\u001b[0m     process_storage_error(error)\n",
      "File \u001b[1;32mc:\\Users\\Windows11\\anaconda3\\lib\\site-packages\\azure\\core\\tracing\\decorator.py:76\u001b[0m, in \u001b[0;36mdistributed_trace.<locals>.decorator.<locals>.wrapper_use_tracer\u001b[1;34m(*args, **kwargs)\u001b[0m\n\u001b[0;32m     74\u001b[0m span_impl_type \u001b[39m=\u001b[39m settings\u001b[39m.\u001b[39mtracing_implementation()\n\u001b[0;32m     75\u001b[0m \u001b[39mif\u001b[39;00m span_impl_type \u001b[39mis\u001b[39;00m \u001b[39mNone\u001b[39;00m:\n\u001b[1;32m---> 76\u001b[0m     \u001b[39mreturn\u001b[39;00m func(\u001b[39m*\u001b[39margs, \u001b[39m*\u001b[39m\u001b[39m*\u001b[39mkwargs)\n\u001b[0;32m     78\u001b[0m \u001b[39m# Merge span is parameter is set, but only if no explicit parent are passed\u001b[39;00m\n\u001b[0;32m     79\u001b[0m \u001b[39mif\u001b[39;00m merge_span \u001b[39mand\u001b[39;00m \u001b[39mnot\u001b[39;00m passed_in_parent:\n",
      "File \u001b[1;32mc:\\Users\\Windows11\\anaconda3\\lib\\site-packages\\azure\\storage\\blob\\_generated\\operations\\_container_operations.py:979\u001b[0m, in \u001b[0;36mContainerOperations.create\u001b[1;34m(self, timeout, metadata, access, request_id_parameter, container_cpk_scope_info, **kwargs)\u001b[0m\n\u001b[0;32m    976\u001b[0m response \u001b[39m=\u001b[39m pipeline_response\u001b[39m.\u001b[39mhttp_response\n\u001b[0;32m    978\u001b[0m \u001b[39mif\u001b[39;00m response\u001b[39m.\u001b[39mstatus_code \u001b[39mnot\u001b[39;00m \u001b[39min\u001b[39;00m [\u001b[39m201\u001b[39m]:\n\u001b[1;32m--> 979\u001b[0m     map_error(status_code\u001b[39m=\u001b[39;49mresponse\u001b[39m.\u001b[39;49mstatus_code, response\u001b[39m=\u001b[39;49mresponse, error_map\u001b[39m=\u001b[39;49merror_map)\n\u001b[0;32m    980\u001b[0m     error \u001b[39m=\u001b[39m \u001b[39mself\u001b[39m\u001b[39m.\u001b[39m_deserialize\u001b[39m.\u001b[39mfailsafe_deserialize(_models\u001b[39m.\u001b[39mStorageError, pipeline_response)\n\u001b[0;32m    981\u001b[0m     \u001b[39mraise\u001b[39;00m HttpResponseError(response\u001b[39m=\u001b[39mresponse, model\u001b[39m=\u001b[39merror)\n",
      "File \u001b[1;32mc:\\Users\\Windows11\\anaconda3\\lib\\site-packages\\azure\\core\\exceptions.py:109\u001b[0m, in \u001b[0;36mmap_error\u001b[1;34m(status_code, response, error_map)\u001b[0m\n\u001b[0;32m    107\u001b[0m     \u001b[39mreturn\u001b[39;00m\n\u001b[0;32m    108\u001b[0m error \u001b[39m=\u001b[39m error_type(response\u001b[39m=\u001b[39mresponse)\n\u001b[1;32m--> 109\u001b[0m \u001b[39mraise\u001b[39;00m error\n",
      "\u001b[1;31mResourceExistsError\u001b[0m: The specified container already exists.\nRequestId:5df06c14-501e-00a7-80e1-725847000000\nTime:2023-04-19T17:08:26.7364089Z\nErrorCode:ContainerAlreadyExists\nContent: <?xml version=\"1.0\" encoding=\"utf-8\"?><Error><Code>ContainerAlreadyExists</Code><Message>The specified container already exists.\nRequestId:5df06c14-501e-00a7-80e1-725847000000\nTime:2023-04-19T17:08:26.7364089Z</Message></Error>"
     ]
    }
   ],
   "source": [
    "# Container 만들기\n",
    "\n",
    "container_name = 'test2container'\n",
    "\n",
    "container_client = blob_service_client.create_container(container_name)\n",
    "# 소문자로 다 통일해서 쓰는게 나중에 오류를 막을 수 있다.\n",
    "# container_client에 값을 받아서 쓸 수 있도록 만듬\n",
    "\n",
    "# container가 azure container에 생성된 걸 확인 할 수 있음!"
   ]
  },
  {
   "cell_type": "code",
   "execution_count": 6,
   "metadata": {},
   "outputs": [],
   "source": [
    "# local에서 text 파일 업로드 하기\n",
    "\n",
    "# Create a local directory to hold blob data\n",
    "local_path = '../99_Src/Azure/data'\n",
    "os.mkdir(local_path)  ## jupyter 계정의 폴더에 디렉토리 만들어줌\n",
    "## os make directory\n",
    "## os module이 os 역활을 수행해줌 : 디렉토리 만들고 수정하는 작업.\n",
    "\n",
    "# Create a file in the local data directory to upload and download\n",
    "local_file_name = 'welcome'+'.txt' ## 파일이름을 welcome, txt 파일로 생성\n",
    "upload_file_path = os.path.join(local_path, local_file_name) # join 디렉토리와 파일을 연결해줌\n",
    "\n",
    "# Write text to the file\n",
    "file = open(upload_file_path, mode='w') ## 파일을 열어줌, 없으면 만들어서 열어줌\n",
    "file.write('welcome to python')\n",
    "## colab 파일 폴더에 welcome.txt가 생긴 걸 확인 할 수 있다.\n",
    "file.close() ## 모든 작업을 다 끝내고 꼭 close 해야함\n"
   ]
  },
  {
   "cell_type": "code",
   "execution_count": 10,
   "metadata": {},
   "outputs": [],
   "source": [
    "blob_client = blob_service_client.get_blob_client(\n",
    "                  container=container_name, blob=local_file_name)\n",
    "\n",
    "with open(file=upload_file_path, mode='rb') as data:\n",
    "  blob_client.upload_blob(data)"
   ]
  }
 ],
 "metadata": {
  "kernelspec": {
   "display_name": "base",
   "language": "python",
   "name": "python3"
  },
  "language_info": {
   "codemirror_mode": {
    "name": "ipython",
    "version": 3
   },
   "file_extension": ".py",
   "mimetype": "text/x-python",
   "name": "python",
   "nbconvert_exporter": "python",
   "pygments_lexer": "ipython3",
   "version": "3.10.9"
  },
  "orig_nbformat": 4
 },
 "nbformat": 4,
 "nbformat_minor": 2
}
