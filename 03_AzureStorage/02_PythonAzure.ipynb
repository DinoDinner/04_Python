{
 "cells": [
  {
   "cell_type": "code",
   "execution_count": 1,
   "metadata": {},
   "outputs": [
    {
     "name": "stdout",
     "output_type": "stream",
     "text": [
      "Requirement already satisfied: azure-storage-blob in c:\\users\\windows11\\anaconda3\\lib\\site-packages (12.16.0)\n",
      "Requirement already satisfied: azure-identity in c:\\users\\windows11\\anaconda3\\lib\\site-packages (1.12.0)\n",
      "Requirement already satisfied: typing-extensions>=4.0.1 in c:\\users\\windows11\\anaconda3\\lib\\site-packages (from azure-storage-blob) (4.4.0)\n",
      "Requirement already satisfied: isodate>=0.6.1 in c:\\users\\windows11\\anaconda3\\lib\\site-packages (from azure-storage-blob) (0.6.1)\n",
      "Requirement already satisfied: azure-core<2.0.0,>=1.26.0 in c:\\users\\windows11\\anaconda3\\lib\\site-packages (from azure-storage-blob) (1.26.4)\n",
      "Requirement already satisfied: cryptography>=2.1.4 in c:\\users\\windows11\\anaconda3\\lib\\site-packages (from azure-storage-blob) (39.0.1)\n",
      "Requirement already satisfied: six>=1.12.0 in c:\\users\\windows11\\appdata\\roaming\\python\\python310\\site-packages (from azure-identity) (1.16.0)\n",
      "Requirement already satisfied: msal-extensions<2.0.0,>=0.3.0 in c:\\users\\windows11\\anaconda3\\lib\\site-packages (from azure-identity) (1.0.0)\n",
      "Requirement already satisfied: msal<2.0.0,>=1.12.0 in c:\\users\\windows11\\anaconda3\\lib\\site-packages (from azure-identity) (1.22.0)\n",
      "Requirement already satisfied: requests>=2.18.4 in c:\\users\\windows11\\anaconda3\\lib\\site-packages (from azure-core<2.0.0,>=1.26.0->azure-storage-blob) (2.28.1)\n",
      "Requirement already satisfied: cffi>=1.12 in c:\\users\\windows11\\anaconda3\\lib\\site-packages (from cryptography>=2.1.4->azure-storage-blob) (1.15.1)\n",
      "Requirement already satisfied: PyJWT[crypto]<3,>=1.0.0 in c:\\users\\windows11\\anaconda3\\lib\\site-packages (from msal<2.0.0,>=1.12.0->azure-identity) (2.4.0)\n",
      "Requirement already satisfied: portalocker<3,>=1.6 in c:\\users\\windows11\\anaconda3\\lib\\site-packages (from msal-extensions<2.0.0,>=0.3.0->azure-identity) (2.7.0)\n",
      "Requirement already satisfied: pycparser in c:\\users\\windows11\\anaconda3\\lib\\site-packages (from cffi>=1.12->cryptography>=2.1.4->azure-storage-blob) (2.21)\n",
      "Requirement already satisfied: pywin32>=226 in c:\\users\\windows11\\appdata\\roaming\\python\\python310\\site-packages (from portalocker<3,>=1.6->msal-extensions<2.0.0,>=0.3.0->azure-identity) (306)\n",
      "Requirement already satisfied: urllib3<1.27,>=1.21.1 in c:\\users\\windows11\\anaconda3\\lib\\site-packages (from requests>=2.18.4->azure-core<2.0.0,>=1.26.0->azure-storage-blob) (1.26.14)\n",
      "Requirement already satisfied: charset-normalizer<3,>=2 in c:\\users\\windows11\\anaconda3\\lib\\site-packages (from requests>=2.18.4->azure-core<2.0.0,>=1.26.0->azure-storage-blob) (2.0.4)\n",
      "Requirement already satisfied: certifi>=2017.4.17 in c:\\users\\windows11\\anaconda3\\lib\\site-packages (from requests>=2.18.4->azure-core<2.0.0,>=1.26.0->azure-storage-blob) (2022.12.7)\n",
      "Requirement already satisfied: idna<4,>=2.5 in c:\\users\\windows11\\anaconda3\\lib\\site-packages (from requests>=2.18.4->azure-core<2.0.0,>=1.26.0->azure-storage-blob) (3.4)\n",
      "Note: you may need to restart the kernel to use updated packages.\n"
     ]
    }
   ],
   "source": [
    "# Azure storage package 설치\n",
    "%pip install azure-storage-blob azure-identity"
   ]
  },
  {
   "cell_type": "code",
   "execution_count": 2,
   "metadata": {},
   "outputs": [],
   "source": [
    "import os, uuid\n",
    "from azure.identity import DefaultAzureCredential\n",
    "from azure.storage.blob import BlobServiceClient, BlobClient, ContainerClient"
   ]
  },
  {
   "cell_type": "code",
   "execution_count": 3,
   "metadata": {},
   "outputs": [],
   "source": [
    "# Blob Serveices에 접속\n",
    "\n",
    "connect_str = 'DefaultEndpointsProtocol=https;AccountName=labuser10storage1;AccountKey=yV7rRbPg7ykSrPqTvVJc8IOOJcMnTVscpV1D8tOG0HpJ1xJI4bA6fxz/6SHFJpuP1J6V+xfX2r6A+AStA3qaJQ==;EndpointSuffix=core.windows.net'\n",
    "blob_service_client = BlobServiceClient.from_connection_string(connect_str)\n",
    "# BlobServiceClient 에게 명령을 줌\n",
    "# 이름 하고 key가 필요함\n",
    "# blob_service_client가 BlobServiceClient에 연결된 상태를 나타내는 객체가 됨"
   ]
  },
  {
   "cell_type": "code",
   "execution_count": 4,
   "metadata": {},
   "outputs": [],
   "source": [
    "# Container 만들기\n",
    "\n",
    "container_name = 'test2container'\n",
    "\n",
    "container_client = blob_service_client.create_container(container_name)\n",
    "# 소문자로 다 통일해서 쓰는게 나중에 오류를 막을 수 있다.\n",
    "# container_client에 값을 받아서 쓸 수 있도록 만듬\n",
    "\n",
    "# container가 azure container에 생성된 걸 확인 할 수 있음!"
   ]
  },
  {
   "cell_type": "code",
   "execution_count": 12,
   "metadata": {},
   "outputs": [],
   "source": [
    "# local에서 text 파일 업로드 하기\n",
    "\n",
    "# Create a local directory to hold blob data\n",
    "local_path = '../99_Src/Azure/data'\n",
    "os.mkdir(local_path)  ## jupyter 계정의 폴더에 디렉토리 만들어줌\n",
    "## os make directory\n",
    "## os module이 os 역활을 수행해줌 : 디렉토리 만들고 수정하는 작업.\n",
    "\n",
    "# Create a file in the local data directory to upload and download\n",
    "local_file_name = 'welcome'+'.txt' ## 파일이름을 welcome, txt 파일로 생성\n",
    "upload_file_path = os.path.join(local_path, local_file_name) # join 디렉토리와 파일을 연결해줌\n",
    "\n",
    "# Write text to the file\n",
    "file = open(upload_file_path, mode='w') ## 파일을 열어줌, 없으면 만들어서 열어줌\n",
    "file.write('welcome to python')\n",
    "## colab 파일 폴더에 welcome.txt가 생긴 걸 확인 할 수 있다.\n",
    "file.close() ## 모든 작업을 다 끝내고 꼭 close 해야함\n"
   ]
  },
  {
   "cell_type": "code",
   "execution_count": 13,
   "metadata": {},
   "outputs": [],
   "source": [
    "blob_client = blob_service_client.get_blob_client(\n",
    "                  container=container_name, blob=local_file_name)\n",
    "\n",
    "with open(file=upload_file_path, mode='rb') as data:\n",
    "    # file을 열 때 쓰는 기능\n",
    "    # rb가 중요함.\n",
    "  blob_client.upload_blob(data)"
   ]
  },
  {
   "attachments": {},
   "cell_type": "markdown",
   "metadata": {},
   "source": [
    "txt 파일 : 텍스트가 들어있는 파일 -> 사용자 친화\n",
    "binary 파일 : 실행파일과 바이너리 형식의 텍스트 파일 -> 컴퓨터 친화\n",
    " \n",
    "python은 txt 파일 -> open -> r(read) -> b(as binary file) -> as data로 저장\n",
    "upload_blob을 통해서 blob container에 업로드\n",
    "만약 wb는 write as binary."
   ]
  },
  {
   "cell_type": "code",
   "execution_count": 18,
   "metadata": {},
   "outputs": [
    {
     "name": "stdout",
     "output_type": "stream",
     "text": [
      "\n",
      "Listing blobs\n",
      "\twelcome.txt\n"
     ]
    }
   ],
   "source": [
    "# blob 파일의 리스트를 확인한다.\n",
    "\n",
    "print('\\nListing blobs')\n",
    "\n",
    "blob_list = container_client.list_blobs()\n",
    "blob_list # 파일의 목록이 있는 목록 객체\n",
    "\n",
    "for blob in blob_list:  # for문을 이용해서 blob목록을 출력\n",
    "    print('\\t' + blob.name)"
   ]
  },
  {
   "cell_type": "code",
   "execution_count": 22,
   "metadata": {},
   "outputs": [
    {
     "name": "stdout",
     "output_type": "stream",
     "text": [
      "../99_Src/Azure/data\\welcome_DOWNLOAD.txt\n"
     ]
    }
   ],
   "source": [
    "# Download the blob to a local file\n",
    "# Add 'DOWNLOAD' before the .txt extension \n",
    "\n",
    "download_file_path = os.path.join(local_path, \n",
    "                                  str.replace(local_file_name, '.txt','_DOWNLOAD.txt')) # _download.txt로 바뀌는 method / replace(a,'b','c') -> a.b 를 a.c로 치환\n",
    "print(download_file_path) # 다운로드 받을 파일의 이름을 결정함\n",
    "container_client = blob_service_client.get_container_client(container=container_name)\n",
    "\n",
    "with open(file=download_file_path, mode='wb') as download_file:  # 다운로드를 받을  수 있는 method + 다운받은 파일의 이름을 지정\n",
    "    download_file.write(container_client.download_blob(blob.name).readall())   # blob container에서 파일을 통채로 다운받고 읽어 들이는 과정.\n",
    "    \n",
    "    # welcome.txt를 container에 업로드하고, 그 파일이름을 download.txt로 바꿔서 다운로드 하는 작업"
   ]
  },
  {
   "cell_type": "code",
   "execution_count": 23,
   "metadata": {},
   "outputs": [
    {
     "name": "stdout",
     "output_type": "stream",
     "text": [
      "\n",
      " Press the Enter Key to begin clean up\n",
      "Deleting blob container...\n",
      "Deleting the local source and download files...\n",
      "Done\n"
     ]
    }
   ],
   "source": [
    "# Clean Up\n",
    "\n",
    "print('\\n Press the Enter Key to begin clean up')\n",
    "input()\n",
    "\n",
    "# if input() == 'yes':\n",
    "# if문을 사용하면 특정단어를 사용해야만 삭제할 수 있다.\n",
    "\n",
    "print('Deleting blob container...')\n",
    "container_client.delete_container() # Container 삭제하는 작업\n",
    "\n",
    "print('Deleting the local source and download files...')    # 파일을 지우고 디렉토리를 삭제하는 작업\n",
    "os.remove(upload_file_path)\n",
    "os.remove(download_file_path)\n",
    "os.rmdir(local_path)\n",
    "\n",
    "print('Done')\n",
    "\n",
    "# 작업이 끝나고 Resource 정리할 때 사용"
   ]
  },
  {
   "attachments": {},
   "cell_type": "markdown",
   "metadata": {},
   "source": [
    "데이터는 가상머신의 디스크에 저장하면 안됨..\n",
    "-> 언제든지 초기화 될 수 있음.\n",
    "\n",
    "그래서 storage 계정을 따로 만들어야함..!\n",
    "\n",
    "가상 서버를 만들 때는 두 대를  묶어서 사용해야함 -> 가용성 집합\n",
    "한 대는 관리 한 대는 서비스 지속"
   ]
  }
 ],
 "metadata": {
  "kernelspec": {
   "display_name": "base",
   "language": "python",
   "name": "python3"
  },
  "language_info": {
   "codemirror_mode": {
    "name": "ipython",
    "version": 3
   },
   "file_extension": ".py",
   "mimetype": "text/x-python",
   "name": "python",
   "nbconvert_exporter": "python",
   "pygments_lexer": "ipython3",
   "version": "3.10.9"
  },
  "orig_nbformat": 4
 },
 "nbformat": 4,
 "nbformat_minor": 2
}
