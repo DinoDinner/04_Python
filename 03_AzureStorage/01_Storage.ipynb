{
 "cells": [
  {
   "attachments": {},
   "cell_type": "markdown",
   "metadata": {},
   "source": [
    "클라우드 서비스 : 내구성과 가용성이 99.99\n",
    "가용성 : 내가 실제로 쓸 수 있는 가능성\n",
    "\n",
    "데이터 센터의 최소 조건 : 30km 거리를 띠워놓아야함 \n",
    "-> 영향을 덜 받게 하기 위해서\n",
    "\n",
    "데이터 센터는 파일에 대한 복제본을 두개를 만든다.\n",
    "-> 데이터의 보완성 높임 / 데이터 센터끼리 데이터를 서로 복사해감.\n",
    "-> 파일 하나 집어넣으면 6개가 생김\n",
    "\n",
    "region마다 데이터 센터가 2개 있음, 데이터 옵션을 설정하면 총 12개가 생김\n",
    "\n",
    "데이터 센터 장애가 난 적은 있어도, 삭제된 적은 없음\n",
    "\n",
    "Blob : Object storage -> azure containers\n",
    "File : FileShare -> azure files\n",
    "Table : Key-Value store -> azure tables\n",
    "Queue : simple queue -> azure queues\n",
    "\n",
    "트래픽이 높아지면 트래픽비용도 발생\n",
    "데이터 센터에 파일을 넣은건 비용 발생x / 다운로드만 비용 발생\n",
    "-> in bound traffic 에는 과금 발생하지x\n"
   ]
  },
  {
   "attachments": {},
   "cell_type": "markdown",
   "metadata": {},
   "source": [
    "azure를 사용하기 위해서 제일먼저 만들어야 하는 것 : storage account\n",
    "(azure 계정 내에서)\n",
    "\n",
    "그 이후 필요한 대로 저장공간을 만들 수 있음\n",
    "-> blob, filese, 등...\n",
    "\n",
    "arealess -> 로컬 중복 스토리지\n",
    "중복이 많아질 수록 데이터가 더 안전해지고 가격도 더 나간다.\n",
    "\n",
    "REST API : 파일 하나하나가 인터넷 주소로 공개할 수 있음\n",
    "\n",
    "네트워크 연결 : 퍼블릭 액세스 = 외부 특정 서비스, 내부 가상머신에서만 -> data storage 안에서만 접근이 가능\n",
    "\n",
    "파일을 삭제했을 때는 복원이 가능하지만,\n",
    "storage account를 삭제하면 복원이 불가능!\n",
    "\n",
    "암호화는 무조건 해야함 -> 보안요건.\n"
   ]
  },
  {
   "attachments": {},
   "cell_type": "markdown",
   "metadata": {},
   "source": [
    "blob storage : 하나하나 폴더처럼 만들 수 있음 -> container\n",
    "\n",
    "container 엑세스 수준\n",
    "private : 내부에서만 쓸 수 있음\n",
    "blob : 외부에서 읽을 수 있음\n",
    "container : 외부에서 수정도 할 수 있음\n"
   ]
  },
  {
   "attachments": {},
   "cell_type": "markdown",
   "metadata": {},
   "source": [
    "container에 파일 업로드하기\n",
    "업로드된 파일은 각 url이 생겨서 주소창에서 연결할 수 있다!"
   ]
  },
  {
   "attachments": {},
   "cell_type": "markdown",
   "metadata": {},
   "source": [
    "azure stortage 안의 access key를 선택\n",
    "\n",
    "key를 가지고 접속하는 사람들은 읽고 쓰고 할 수 있다.\n",
    "문자열은 연결에 필요한 정보가 모두 들어가있다. -> connection string\n",
    "\n",
    "연결 문자열 사용하기!"
   ]
  }
 ],
 "metadata": {
  "language_info": {
   "name": "python"
  },
  "orig_nbformat": 4
 },
 "nbformat": 4,
 "nbformat_minor": 2
}
