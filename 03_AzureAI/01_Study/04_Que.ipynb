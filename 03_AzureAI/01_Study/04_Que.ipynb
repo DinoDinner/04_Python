{
 "cells": [
  {
   "cell_type": "code",
   "execution_count": 2,
   "metadata": {},
   "outputs": [
    {
     "name": "stdout",
     "output_type": "stream",
     "text": [
      "Collecting azure-storage-queue==2.1.0\n",
      "  Downloading azure_storage_queue-2.1.0-py2.py3-none-any.whl (24 kB)\n",
      "Requirement already satisfied: azure-common>=1.1.5 in c:\\users\\windows11\\anaconda3\\lib\\site-packages (from azure-storage-queue==2.1.0) (1.1.28)\n",
      "Requirement already satisfied: azure-storage-common~=2.1 in c:\\users\\windows11\\anaconda3\\lib\\site-packages (from azure-storage-queue==2.1.0) (2.1.0)\n",
      "Requirement already satisfied: python-dateutil in c:\\users\\windows11\\appdata\\roaming\\python\\python310\\site-packages (from azure-storage-common~=2.1->azure-storage-queue==2.1.0) (2.8.2)\n",
      "Requirement already satisfied: requests in c:\\users\\windows11\\anaconda3\\lib\\site-packages (from azure-storage-common~=2.1->azure-storage-queue==2.1.0) (2.28.1)\n",
      "Requirement already satisfied: cryptography in c:\\users\\windows11\\anaconda3\\lib\\site-packages (from azure-storage-common~=2.1->azure-storage-queue==2.1.0) (39.0.1)\n",
      "Requirement already satisfied: cffi>=1.12 in c:\\users\\windows11\\anaconda3\\lib\\site-packages (from cryptography->azure-storage-common~=2.1->azure-storage-queue==2.1.0) (1.15.1)\n",
      "Requirement already satisfied: six>=1.5 in c:\\users\\windows11\\appdata\\roaming\\python\\python310\\site-packages (from python-dateutil->azure-storage-common~=2.1->azure-storage-queue==2.1.0) (1.16.0)\n",
      "Requirement already satisfied: charset-normalizer<3,>=2 in c:\\users\\windows11\\anaconda3\\lib\\site-packages (from requests->azure-storage-common~=2.1->azure-storage-queue==2.1.0) (2.0.4)\n",
      "Requirement already satisfied: idna<4,>=2.5 in c:\\users\\windows11\\anaconda3\\lib\\site-packages (from requests->azure-storage-common~=2.1->azure-storage-queue==2.1.0) (3.4)\n",
      "Requirement already satisfied: urllib3<1.27,>=1.21.1 in c:\\users\\windows11\\anaconda3\\lib\\site-packages (from requests->azure-storage-common~=2.1->azure-storage-queue==2.1.0) (1.26.14)\n",
      "Requirement already satisfied: certifi>=2017.4.17 in c:\\users\\windows11\\anaconda3\\lib\\site-packages (from requests->azure-storage-common~=2.1->azure-storage-queue==2.1.0) (2022.12.7)\n",
      "Requirement already satisfied: pycparser in c:\\users\\windows11\\anaconda3\\lib\\site-packages (from cffi>=1.12->cryptography->azure-storage-common~=2.1->azure-storage-queue==2.1.0) (2.21)\n",
      "Installing collected packages: azure-storage-queue\n",
      "Successfully installed azure-storage-queue-2.1.0\n",
      "Note: you may need to restart the kernel to use updated packages.\n"
     ]
    }
   ],
   "source": [
    "# Queue 만들기\n",
    "\n",
    "%pip install azure-storage-queue==2.1.0 \n",
    "# 특정 패키지의 버젼도 가져올 수 있다!"
   ]
  },
  {
   "cell_type": "code",
   "execution_count": 4,
   "metadata": {},
   "outputs": [],
   "source": [
    "from azure.storage.queue import QueueService, QueueMessageFormat    # Queue 서비스 호출"
   ]
  },
  {
   "cell_type": "code",
   "execution_count": 5,
   "metadata": {},
   "outputs": [
    {
     "data": {
      "text/plain": [
       "True"
      ]
     },
     "execution_count": 5,
     "metadata": {},
     "output_type": "execute_result"
    }
   ],
   "source": [
    "connect_str = 'DefaultEndpointsProtocol=https;AccountName=labuser10storage1;AccountKey=yV7rRbPg7ykSrPqTvVJc8IOOJcMnTVscpV1D8tOG0HpJ1xJI4bA6fxz/6SHFJpuP1J6V+xfX2r6A+AStA3qaJQ==;EndpointSuffix=core.windows.net'\n",
    "# Azure storage access key string 가져오기!\n",
    "\n",
    "queue_name = 'queue-myqueue'    # queue의 이름지정\n",
    "queue_service = QueueService(connection_string=connect_str)\n",
    "\n",
    "queue_service.create_queue(queue_name)  # queue 생성"
   ]
  },
  {
   "cell_type": "code",
   "execution_count": 6,
   "metadata": {},
   "outputs": [],
   "source": [
    "queue_service.encode_function = QueueMessageFormat.binary_base64encode  #   queue에 인코딩 지정\n",
    "queue_service.decode_function = QueueMessageFormat.binary_base64decode  #   queue에 디코딩 지정"
   ]
  },
  {
   "cell_type": "code",
   "execution_count": 104,
   "metadata": {},
   "outputs": [
    {
     "name": "stdout",
     "output_type": "stream",
     "text": [
      "Adding message: Hello World2\n"
     ]
    },
    {
     "data": {
      "text/plain": [
       "<azure.storage.queue.models.QueueMessage at 0x248d96d3f10>"
      ]
     },
     "execution_count": 104,
     "metadata": {},
     "output_type": "execute_result"
    }
   ],
   "source": [
    "import base64\n",
    "message = 'Hello World2'\n",
    "print('Adding message: ' + message)\n",
    "\n",
    "message= base64.b64encode(message.encode('utf-8'))\n",
    "queue_service.put_message(queue_name, message)  #   put queue에 message 넣기"
   ]
  },
  {
   "cell_type": "code",
   "execution_count": 105,
   "metadata": {},
   "outputs": [
    {
     "name": "stdout",
     "output_type": "stream",
     "text": [
      "peeked message: Hello World\n"
     ]
    }
   ],
   "source": [
    "#   Peek : 엿보기\n",
    "\n",
    "messages = queue_service.peek_messages(queue_name)   #   queue에서 peek 으로 message 가져오기\n",
    "\n",
    "for peeked_message in messages:\n",
    "    message = base64.b64decode(peeked_message.content)  #   base64로 decoding 해야 원복이 된다.\n",
    "    print('peeked message: '+ message.decode('utf-8'))"
   ]
  },
  {
   "cell_type": "code",
   "execution_count": 115,
   "metadata": {},
   "outputs": [],
   "source": [
    "# Get : 가져오는 것\n",
    "\n",
    "messages = queue_service.get_messages(queue_name)    #   queue에서 get으로 message 가져오기\n",
    "\n",
    "for msg in messages:\n",
    "    message = base64.b64decode(msg.content)\n",
    "    print('Got message: ' + message.decode('utf-8'))\n",
    "    \n",
    "#   Get은 message를 아예 가져오기 때문에 queue에서 없어짐"
   ]
  },
  {
   "cell_type": "code",
   "execution_count": 116,
   "metadata": {},
   "outputs": [
    {
     "data": {
      "text/plain": [
       "True"
      ]
     },
     "execution_count": 116,
     "metadata": {},
     "output_type": "execute_result"
    }
   ],
   "source": [
    "# Queue 삭제\n",
    "\n",
    "queue_service.delete_queue(queue_name)  # queue를 삭제할 수 있음\n",
    "\n",
    "# queue는 메세지만 저장하고 불러오는데 사용"
   ]
  }
 ],
 "metadata": {
  "kernelspec": {
   "display_name": "base",
   "language": "python",
   "name": "python3"
  },
  "language_info": {
   "codemirror_mode": {
    "name": "ipython",
    "version": 3
   },
   "file_extension": ".py",
   "mimetype": "text/x-python",
   "name": "python",
   "nbconvert_exporter": "python",
   "pygments_lexer": "ipython3",
   "version": "3.10.9"
  },
  "orig_nbformat": 4
 },
 "nbformat": 4,
 "nbformat_minor": 2
}
