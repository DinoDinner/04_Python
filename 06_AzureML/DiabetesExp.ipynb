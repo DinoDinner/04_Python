{
  "cells": [
    {
      "cell_type": "code",
      "execution_count": 1,
      "metadata": {
        "gather": {
          "logged": 1683512082891
        }
      },
      "outputs": [
        {
          "name": "stdout",
          "output_type": "stream",
          "text": [
            "Workspace name : labuser10ml \n",
            "Azure region : koreacentral \n",
            "Subscription ID : 27db5ec6-d206-4028-b5e1-6004dca5eeef \n",
            "Resource group : rg10\n"
          ]
        }
      ],
      "source": [
        "# Azure Notebook에서 Python 3.8 설정 후 실행\n",
        "\n",
        "\n",
        "from azureml.core import Workspace\n",
        "ws = Workspace.from_config()    # Workspace 설정\n",
        "print('Workspace name : '+ws.name,'\\n'\n",
        "        'Azure region : '+ws.location,'\\n'\n",
        "        'Subscription ID : '+ws.subscription_id,'\\n'\n",
        "        'Resource group : '+ws.resource_group)"
      ]
    },
    {
      "cell_type": "code",
      "execution_count": 2,
      "metadata": {
        "gather": {
          "logged": 1683512083035
        },
        "jupyter": {
          "outputs_hidden": false,
          "source_hidden": false
        },
        "nteract": {
          "transient": {
            "deleting": false
          }
        }
      },
      "outputs": [],
      "source": [
        "# 실험공간을 준비\n",
        "\n",
        "from azureml.core import Experiment\n",
        "experiment = Experiment(workspace=ws,name='diabetes-experiment') # Workspace 이름 입력"
      ]
    },
    {
      "cell_type": "code",
      "execution_count": 3,
      "metadata": {
        "gather": {
          "logged": 1683512088672
        },
        "jupyter": {
          "outputs_hidden": false,
          "source_hidden": false
        },
        "nteract": {
          "transient": {
            "deleting": false
          }
        }
      },
      "outputs": [
        {
          "name": "stdout",
          "output_type": "stream",
          "text": [
            "     AGE  SEX   BMI     BP   S1     S2    S3    S4      S5   S6\n",
            "440   36    1  30.0   95.0  201  125.2  42.0  4.79  5.1299   85\n",
            "389   47    2  26.5   70.0  181  104.8  63.0  3.00  4.1897   70\n",
            "5     23    1  22.6   89.0  139   64.8  61.0  2.00  4.1897   68\n",
            "289   28    2  31.5   83.0  228  149.4  38.0  6.00  5.3132   83\n",
            "101   53    2  22.2  113.0  197  115.2  67.0  3.00  4.3041  100\n",
            "..   ...  ...   ...    ...  ...    ...   ...   ...     ...  ...\n",
            "122   62    2  33.9  101.0  221  156.4  35.0  6.00  4.9972  103\n",
            "51    65    2  27.9  103.0  159   96.8  42.0  4.00  4.6151   86\n",
            "119   53    1  22.0   94.0  175   88.0  59.0  3.00  4.9416   98\n",
            "316   53    2  27.7   95.0  190  101.8  41.0  5.00  5.4638  101\n",
            "20    35    1  21.1   82.0  156   87.8  50.0  3.00  4.5109   95\n",
            "\n",
            "[353 rows x 10 columns]\n"
          ]
        }
      ],
      "source": [
        "# 데이터를 준비한다.\n",
        "# 당뇨병이 걸리는 원인 분석 -> 요인으로 상관관계 분석 = Regression\n",
        "\n",
        "from azureml.opendatasets import Diabetes\n",
        "from sklearn.model_selection import train_test_split\n",
        "\n",
        "X_df = Diabetes.get_tabular_dataset().to_pandas_dataframe().dropna() \n",
        "# X값은 변수(요인)\n",
        "# Tabular : 정적데이터(테이블)\n",
        "# # dropna: na는 제외\n",
        "\n",
        "y_df = X_df.pop('Y')\n",
        "# Y값은 결과(Outcome)\n",
        "# diabetes Dataframe에서 Y열 제거\n",
        "\n",
        "X_train , X_test, y_train, y_test = train_test_split(X_df,y_df,test_size=0.2,random_state=66)\n",
        "# 데이터 나누기\n",
        "\n",
        "print(X_train)"
      ]
    },
    {
      "cell_type": "code",
      "execution_count": 4,
      "metadata": {
        "gather": {
          "logged": 1683512152532
        },
        "jupyter": {
          "outputs_hidden": false,
          "source_hidden": false
        },
        "nteract": {
          "transient": {
            "deleting": false
          }
        }
      },
      "outputs": [
        {
          "name": "stderr",
          "output_type": "stream",
          "text": [
            "/anaconda/envs/azureml_py38/lib/python3.8/site-packages/sklearn/externals/joblib/__init__.py:15: FutureWarning: sklearn.externals.joblib is deprecated in 0.21 and will be removed in 0.23. Please import this functionality directly from joblib, which can be installed with: pip install joblib. If this warning is raised when loading pickled models, you may need to re-serialize those models with scikit-learn 0.21+.\n",
            "  warnings.warn(msg, category=FutureWarning)\n"
          ]
        },
        {
          "name": "stdout",
          "output_type": "stream",
          "text": [
            "model_alpha=0.1, rmse=56.60520331339142\n",
            "0.1 expriment completed\n",
            "model_alpha=0.2, rmse=56.61060264545032\n",
            "0.2 expriment completed\n",
            "model_alpha=0.3, rmse=56.616243245483616\n",
            "0.3 expriment completed\n",
            "model_alpha=0.4, rmse=56.622107088710145\n",
            "0.4 expriment completed\n",
            "model_alpha=0.5, rmse=56.62817734275138\n",
            "0.5 expriment completed\n",
            "model_alpha=0.6, rmse=56.63443828302745\n",
            "0.6 expriment completed\n",
            "model_alpha=0.7, rmse=56.64087521475942\n",
            "0.7 expriment completed\n",
            "model_alpha=0.8, rmse=56.64747440101076\n",
            "0.8 expriment completed\n",
            "model_alpha=0.9, rmse=56.654222996253125\n",
            "0.9 expriment completed\n",
            "model_alpha=1, rmse=56.66110898499056\n",
            "1 expriment completed\n"
          ]
        }
      ],
      "source": [
        "# 모델 훈련, 로그, 파일 관리\n",
        "from sklearn.linear_model import Ridge  # Ridge regression : 능형 회귀\n",
        "from sklearn.metrics import mean_squared_error  # metric = 측정 값 -> mse 방법 이용\n",
        "from sklearn.externals import joblib # 학습시킨걸 파일로 저장할 수 있음(.pkl)\n",
        "import math\n",
        "\n",
        "alphas = [0.1,0.2,0.3,0.4,0.5,0.6,0.7,0.8,0.9,1]\n",
        "# Ridge 알고리즘 사용 반복문 만들기\n",
        "# alpha = 기울기 계수의 변화에 따라 능형 회귀 모델의 정확도 측정\n",
        "\n",
        "for alpha in alphas:\n",
        "\n",
        "    # 실험의 기록\n",
        "    run = experiment.start_logging()    # 실험 결과에 따라서 log값을 계속 출력\n",
        "    run.log('alpha_value',alpha)    # alpha 값에 대한 log 출력 명령\n",
        "\n",
        "    model = Ridge(alpha=alpha)  # alpha값이 model로 계속 들어가면서 학습됨\n",
        "    model.fit(X_train,y_train)  # 학습 데이터 입력\n",
        "    y_pred = model.predict(X_test)  # 예측값에 대한 설정\n",
        "    rmse = math.sqrt(mean_squared_error(y_test,y_pred))\n",
        "    # RMSE : Root Mean Squre Error -> 오차를 root로 줄이는 방법.\n",
        "\n",
        "    run.log('rmse',rmse)    # rmse 값에 대한 log 출력\n",
        "\n",
        "    print('model_alpha={0}, rmse={1}'.format(alpha, rmse))\n",
        "\n",
        "    # 모델을 파일로 저장하는 부분\n",
        "    model_name = 'model_alpha_'+str(alpha) + '.pkl' # alpha가 데이터로 들어가면서 다시 출력용 str으로 변환\n",
        "    filename = 'outputs/' + model_name\n",
        "\n",
        "    joblib.dump(value=model, filename=filename)\n",
        "    # Azrue ML의 job linbrary dump(저장)\n",
        "\n",
        "    # Azure ML Service에 모델 파일을 업로드 하는 부분\n",
        "    run.upload_file(name=model_name, path_or_stream=filename)\n",
        "\n",
        "    run.complete()  # log 완료 명령어\n",
        "\n",
        "    print(f'{alpha} experiment completed')   # format 지정 f-string"
      ]
    },
    {
      "cell_type": "code",
      "execution_count": 5,
      "metadata": {
        "gather": {
          "logged": 1683512152670
        },
        "jupyter": {
          "outputs_hidden": false,
          "source_hidden": false
        },
        "nteract": {
          "transient": {
            "deleting": false
          }
        }
      },
      "outputs": [
        {
          "data": {
            "text/html": [
              "<table style=\"width:100%\"><tr><th>Name</th><th>Workspace</th><th>Report Page</th><th>Docs Page</th></tr><tr><td>diabetes-experiment</td><td>labuser10ml</td><td><a href=\"https://ml.azure.com/experiments/id/1a3089bd-28c4-4307-94dd-285001c12bed?wsid=/subscriptions/27db5ec6-d206-4028-b5e1-6004dca5eeef/resourcegroups/rg10/workspaces/labuser10ml&amp;tid=5fb256f0-fbf2-40d2-81d5-bac1b32c419d\" target=\"_blank\" rel=\"noopener\">Link to Azure Machine Learning studio</a></td><td><a href=\"https://docs.microsoft.com/en-us/python/api/azureml-core/azureml.core.experiment.Experiment?view=azure-ml-py\" target=\"_blank\" rel=\"noopener\">Link to Documentation</a></td></tr></table>"
            ],
            "text/plain": [
              "Experiment(Name: diabetes-experiment,\n",
              "Workspace: labuser10ml)"
            ]
          },
          "execution_count": 5,
          "metadata": {},
          "output_type": "execute_result"
        }
      ],
      "source": [
        "experiment  # 실험결과 링크"
      ]
    },
    {
      "cell_type": "code",
      "execution_count": 6,
      "metadata": {
        "gather": {
          "logged": 1683512166490
        },
        "jupyter": {
          "outputs_hidden": false,
          "source_hidden": false
        },
        "nteract": {
          "transient": {
            "deleting": false
          }
        }
      },
      "outputs": [
        {
          "name": "stdout",
          "output_type": "stream",
          "text": [
            "Best_run_id : 50ab9c6c-d5bb-4bfb-acd0-ace0b4226deb\n",
            "Best_run_id rmse : 56.60520331339142\n"
          ]
        }
      ],
      "source": [
        "# Best Model 탐색 후 다운로드\n",
        "# regression이기 때문에 rmse 값은 작을 수록 좋다 = error 수치가 낮을 수록 연관관계가 높음.\n",
        "\n",
        "minimum_rmse = None\n",
        "minimum_rmse_runid = None\n",
        "\n",
        "for exp in experiment.get_runs():\n",
        "    run_metrics = exp.get_metrics();    # metrics = rmse\n",
        "    run_details = exp.get_details();    # details = 실험 ID\n",
        "\n",
        "    run_rmse = run_metrics['rmse']\n",
        "    run_id = run_details['runId']\n",
        "\n",
        "    # 가장 낮은 RMSE 값을 가진 실행 ID를 구하는 부분\n",
        "    if minimum_rmse is None:    # miminum 초기값은 NONE\n",
        "        minimum_rmse = run_rmse     # minumum_remse는 run_rmse다\n",
        "        minimum_rmse_runid = run_id\n",
        "    else:\n",
        "        if run_rmse < minimum_rmse: # minumum_rmse 가 none이 아닐경우 결과 rmse를 계속 대입해서 작아지게 됨\n",
        "            minimum_rmse = run_rmse # run_rmse의 값이 제일 작은 것을 minimum_rmse로 지정\n",
        "            minimum_rmse_runid = run_id\n",
        "\n",
        "print('Best_run_id : '+ minimum_rmse_runid)\n",
        "print('Best_run_id rmse : '+ str(minimum_rmse))"
      ]
    },
    {
      "cell_type": "code",
      "execution_count": 7,
      "metadata": {
        "gather": {
          "logged": 1683512166803
        },
        "jupyter": {
          "outputs_hidden": false,
          "source_hidden": false
        },
        "nteract": {
          "transient": {
            "deleting": false
          }
        }
      },
      "outputs": [
        {
          "name": "stdout",
          "output_type": "stream",
          "text": [
            "['model_alpha_0.1.pkl', 'outputs/.amlignore', 'outputs/.amlignore.amltmp', 'outputs/model_alpha_0.1.pkl', 'outputs/model_alpha_0.2.pkl', 'outputs/model_alpha_0.3.pkl', 'outputs/model_alpha_0.4.pkl', 'outputs/model_alpha_0.5.pkl', 'outputs/model_alpha_0.6.pkl', 'outputs/model_alpha_0.7.pkl', 'outputs/model_alpha_0.8.pkl', 'outputs/model_alpha_0.9.pkl', 'outputs/model_alpha_1.pkl']\n"
          ]
        }
      ],
      "source": [
        "# Best Model를 가지고 활용하기\n",
        "\n",
        "from azureml.core import Run\n",
        "best_run = Run(experiment=experiment, run_id=minimum_rmse_runid)    # 최적의 모델을 실행할 수 있게\n",
        "print(best_run.get_file_names())\n",
        "\n",
        "# 파일 다운로드\n",
        "best_run.download_file(name=str(best_run.get_file_names()[0]))\n",
        "# [0]은 가장 첫 번째 결과물이 Best model 이기 때문에 입력."
      ]
    },
    {
      "cell_type": "code",
      "execution_count": 8,
      "metadata": {
        "gather": {
          "logged": 1683512167468
        },
        "jupyter": {
          "outputs_hidden": false,
          "source_hidden": false
        },
        "nteract": {
          "transient": {
            "deleting": false
          }
        }
      },
      "outputs": [
        {
          "name": "stderr",
          "output_type": "stream",
          "text": [
            "\"datastore.upload_files\" is deprecated after version 1.0.69. Please use \"FileDatasetFactory.upload_directory\" instead. See Dataset API change notice at https://aka.ms/dataset-deprecation.\n"
          ]
        },
        {
          "name": "stdout",
          "output_type": "stream",
          "text": [
            "Uploading an estimated of 2 files\n",
            "Uploading ./features.csv\n",
            "Uploaded ./features.csv, 1 files out of an estimated total of 2\n",
            "Uploading ./labels.csv\n",
            "Uploaded ./labels.csv, 2 files out of an estimated total of 2\n",
            "Uploaded 2 files\n"
          ]
        },
        {
          "data": {
            "text/plain": [
              "$AZUREML_DATAREFERENCE_ca13f0743b4b4a59a4cf106a1b2b4e79"
            ]
          },
          "execution_count": 8,
          "metadata": {},
          "output_type": "execute_result"
        }
      ],
      "source": [
        "# features/label date 추출하기\n",
        "\n",
        "import numpy as np\n",
        "from azureml.core import Dataset\n",
        "\n",
        "np.savetxt('features.csv', X_train, delimiter=',')\n",
        "np.savetxt('labels.csv',y_train, delimiter=',')\n",
        "\n",
        "# DataStore 데이터 저장\n",
        "datastore = ws.get_default_datastore()  # datastore에 위 data 저장\n",
        "\n",
        "# Dataupload 데이터 업로드\n",
        "datastore.upload_files(files=['./features.csv','./labels.csv'],\n",
        "                        target_path='diabetes-experiment/',\n",
        "                        overwrite=True)\n"
      ]
    },
    {
      "cell_type": "code",
      "execution_count": 9,
      "metadata": {
        "gather": {
          "logged": 1683512168676
        },
        "jupyter": {
          "outputs_hidden": false,
          "source_hidden": false
        },
        "nteract": {
          "transient": {
            "deleting": false
          }
        }
      },
      "outputs": [],
      "source": [
        "# Data 가져오기\n",
        "\n",
        "feature_dataset = Dataset.Tabular.from_delimited_files(path=[(datastore, 'diabetes-experiment/features.csv')])\n",
        "label_dataset = Dataset.Tabular.from_delimited_files(path=[(datastore, 'diabetes-experiment/labels.csv')])\n",
        "# 저장한 파일들을 다시 가져올 수 있다."
      ]
    },
    {
      "cell_type": "code",
      "execution_count": 10,
      "metadata": {
        "gather": {
          "logged": 1683512168808
        },
        "jupyter": {
          "outputs_hidden": false,
          "source_hidden": false
        },
        "nteract": {
          "transient": {
            "deleting": false
          }
        }
      },
      "outputs": [],
      "source": [
        "#  모델의 등록\n",
        "\n",
        "import sklearn\n",
        "from azureml.core import Model\n",
        "from azureml.core.resource_configuration import ResourceConfiguration"
      ]
    },
    {
      "cell_type": "code",
      "execution_count": 13,
      "metadata": {
        "gather": {
          "logged": 1683512264106
        },
        "jupyter": {
          "outputs_hidden": false,
          "source_hidden": false
        },
        "nteract": {
          "transient": {
            "deleting": false
          }
        }
      },
      "outputs": [
        {
          "name": "stdout",
          "output_type": "stream",
          "text": [
            "Registering model diabestes-experiment-model\n"
          ]
        }
      ],
      "source": [
        "#  모델의 등록 과정\n",
        "\n",
        "model = Model.register(workspace=ws,\n",
        "                model_name='diabestes-experiment-model',\n",
        "                model_path=f'./{str(best_run.get_file_names()[0])}',\n",
        "                # list 타입이기 때문에 배열 중에 하나를 가져온다. \n",
        "                # bestrun은 txt기 때문에 str 문자열로 바꿔준다.\n",
        "                # 문자열 타입의 정보에 대한 경로를 지정\n",
        "                # f = foramt -> 함수이기 때문에 formating을 함.\n",
        "                \n",
        "                model_framework=Model.Framework.SCIKITLEARN,\n",
        "                model_framework_version=sklearn.__version__,\n",
        "                \n",
        "                sample_input_dataset=feature_dataset,\n",
        "                sample_output_dataset=label_dataset,\n",
        "                \n",
        "                resource_configuration=ResourceConfiguration(cpu=1,memory_in_gb=0.5),\n",
        "                \n",
        "                description='Ride regression model to predict diabetes progression',\n",
        "                tags={'area':'diabetes','type':'regression'}\n",
        "                )\n",
        "\n",
        "                # Models 라는 곳에 저장됨\n",
        "                # 저장이후 endpoint를 활용하면 어디서든 model을 끌어와서 쓸 수 있다."
      ]
    },
    {
      "cell_type": "code",
      "execution_count": 14,
      "metadata": {
        "gather": {
          "logged": 1683512265180
        },
        "jupyter": {
          "outputs_hidden": false,
          "source_hidden": false
        },
        "nteract": {
          "transient": {
            "deleting": false
          }
        }
      },
      "outputs": [
        {
          "name": "stdout",
          "output_type": "stream",
          "text": [
            "Model name: diabestes-experiment-model\n",
            "Model version: 4\n"
          ]
        }
      ],
      "source": [
        "print('Model name:', model.name)\n",
        "print('Model version:', model.version)"
      ]
    },
    {
      "cell_type": "code",
      "execution_count": 15,
      "metadata": {
        "gather": {
          "logged": 1683513560704
        },
        "jupyter": {
          "outputs_hidden": false,
          "source_hidden": false
        },
        "nteract": {
          "transient": {
            "deleting": false
          }
        }
      },
      "outputs": [
        {
          "name": "stderr",
          "output_type": "stream",
          "text": [
            "/tmp/ipykernel_856853/2012493234.py:4: FutureWarning: azureml.core.model:\n",
            "To leverage new model deployment capabilities, AzureML recommends using CLI/SDK v2 to deploy models as online endpoint, \n",
            "please refer to respective documentations \n",
            "https://docs.microsoft.com/azure/machine-learning/how-to-deploy-managed-online-endpoints /\n",
            "https://docs.microsoft.com/azure/machine-learning/how-to-attach-kubernetes-anywhere \n",
            "For more information on migration, see https://aka.ms/acimoemigration \n",
            "To disable CLI/SDK v1 deprecation warning set AZUREML_LOG_DEPRECATION_WARNING_ENABLED to 'False'\n",
            "  service = Model.deploy(ws,service_name,[model],overwrite=True)\n"
          ]
        },
        {
          "name": "stdout",
          "output_type": "stream",
          "text": [
            "Tips: You can try get_logs(): https://aka.ms/debugimage#dockerlog or local deployment: https://aka.ms/debugimage#debug-locally to debug if deployment takes longer than 10 minutes.\n",
            "Running\n",
            "2023-05-08 02:17:48+00:00 Creating Container Registry if not exists..\n",
            "2023-05-08 02:27:48+00:00 Registering the environment.\n",
            "2023-05-08 02:27:49+00:00 Uploading autogenerated assets for no-code-deployment..\n",
            "2023-05-08 02:27:52+00:00 Building image..\n",
            "2023-05-08 02:38:05+00:00 Generating deployment configuration.\n",
            "2023-05-08 02:38:05+00:00 Submitting deployment to compute..\n",
            "2023-05-08 02:38:11+00:00 Checking the status of deployment diabetes-service..\n",
            "2023-05-08 02:39:13+00:00 Checking the status of inference endpoint diabetes-service.\n",
            "Succeeded\n",
            "ACI service creation operation finished, operation \"Succeeded\"\n"
          ]
        }
      ],
      "source": [
        "# 모델의 배포\n",
        "service_name = 'diabetes-service'\n",
        "\n",
        "service = Model.deploy(ws,service_name,[model],overwrite=True)\n",
        "service.wait_for_deployment(show_output=True)"
      ]
    },
    {
      "cell_type": "code",
      "execution_count": 17,
      "metadata": {
        "gather": {
          "logged": 1683514001091
        },
        "jupyter": {
          "outputs_hidden": false,
          "source_hidden": false
        },
        "nteract": {
          "transient": {
            "deleting": false
          }
        }
      },
      "outputs": [
        {
          "name": "stdout",
          "output_type": "stream",
          "text": [
            "{'predict': [204.9450693706217, 74.4641225933554]}\n"
          ]
        }
      ],
      "source": [
        "# 배포한 모델을 다시 호출 하는 법 (JSON 호출)\n",
        "\n",
        "import json\n",
        " \n",
        "input_payload = json.dumps({\n",
        "    'data': X_train[0:2].values.tolist(),\n",
        "    # X_train 데이터로 분석하기\n",
        "    'method': 'predict'\n",
        "})\n",
        " \n",
        "output = service.run(input_payload)\n",
        "# service : 최적 모델\n",
        "# 최적 모델로 분석하기\n",
        " \n",
        "print(output)\n",
        "\n",
        "# 최적 모델을 활용해서 예측값을 반환할 수 있다."
      ]
    }
  ],
  "metadata": {
    "kernel_info": {
      "name": "python38-azureml"
    },
    "kernelspec": {
      "display_name": "Python 3.8 - AzureML",
      "language": "python",
      "name": "python38-azureml"
    },
    "language_info": {
      "codemirror_mode": {
        "name": "ipython",
        "version": 3
      },
      "file_extension": ".py",
      "mimetype": "text/x-python",
      "name": "python",
      "nbconvert_exporter": "python",
      "pygments_lexer": "ipython3",
      "version": "3.8.5"
    },
    "microsoft": {
      "host": {
        "AzureML": {
          "notebookHasBeenCompleted": true
        }
      },
      "ms_spell_check": {
        "ms_spell_check_language": "en"
      }
    },
    "nteract": {
      "version": "nteract-front-end@1.0.0"
    }
  },
  "nbformat": 4,
  "nbformat_minor": 2
}
