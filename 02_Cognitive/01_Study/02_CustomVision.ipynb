{
 "cells": [
  {
   "cell_type": "code",
   "execution_count": 4,
   "metadata": {},
   "outputs": [
    {
     "name": "stdout",
     "output_type": "stream",
     "text": [
      "Requirement already satisfied: azure-cognitiveservices-vision-customvision in c:\\users\\windows11\\anaconda3\\lib\\site-packages (3.1.0)\n",
      "Requirement already satisfied: azure-common~=1.1 in c:\\users\\windows11\\anaconda3\\lib\\site-packages (from azure-cognitiveservices-vision-customvision) (1.1.28)\n",
      "Requirement already satisfied: msrest>=0.5.0 in c:\\users\\windows11\\anaconda3\\lib\\site-packages (from azure-cognitiveservices-vision-customvision) (0.7.1)\n",
      "Requirement already satisfied: isodate>=0.6.0 in c:\\users\\windows11\\anaconda3\\lib\\site-packages (from msrest>=0.5.0->azure-cognitiveservices-vision-customvision) (0.6.1)\n",
      "Requirement already satisfied: requests-oauthlib>=0.5.0 in c:\\users\\windows11\\anaconda3\\lib\\site-packages (from msrest>=0.5.0->azure-cognitiveservices-vision-customvision) (1.3.1)\n",
      "Requirement already satisfied: certifi>=2017.4.17 in c:\\users\\windows11\\anaconda3\\lib\\site-packages (from msrest>=0.5.0->azure-cognitiveservices-vision-customvision) (2022.12.7)\n",
      "Requirement already satisfied: requests~=2.16 in c:\\users\\windows11\\anaconda3\\lib\\site-packages (from msrest>=0.5.0->azure-cognitiveservices-vision-customvision) (2.28.1)\n",
      "Requirement already satisfied: azure-core>=1.24.0 in c:\\users\\windows11\\anaconda3\\lib\\site-packages (from msrest>=0.5.0->azure-cognitiveservices-vision-customvision) (1.26.4)\n",
      "Requirement already satisfied: typing-extensions>=4.3.0 in c:\\users\\windows11\\anaconda3\\lib\\site-packages (from azure-core>=1.24.0->msrest>=0.5.0->azure-cognitiveservices-vision-customvision) (4.4.0)\n",
      "Requirement already satisfied: six>=1.11.0 in c:\\users\\windows11\\appdata\\roaming\\python\\python310\\site-packages (from azure-core>=1.24.0->msrest>=0.5.0->azure-cognitiveservices-vision-customvision) (1.16.0)\n",
      "Requirement already satisfied: urllib3<1.27,>=1.21.1 in c:\\users\\windows11\\anaconda3\\lib\\site-packages (from requests~=2.16->msrest>=0.5.0->azure-cognitiveservices-vision-customvision) (1.26.14)\n",
      "Requirement already satisfied: idna<4,>=2.5 in c:\\users\\windows11\\anaconda3\\lib\\site-packages (from requests~=2.16->msrest>=0.5.0->azure-cognitiveservices-vision-customvision) (3.4)\n",
      "Requirement already satisfied: charset-normalizer<3,>=2 in c:\\users\\windows11\\anaconda3\\lib\\site-packages (from requests~=2.16->msrest>=0.5.0->azure-cognitiveservices-vision-customvision) (2.0.4)\n",
      "Requirement already satisfied: oauthlib>=3.0.0 in c:\\users\\windows11\\anaconda3\\lib\\site-packages (from requests-oauthlib>=0.5.0->msrest>=0.5.0->azure-cognitiveservices-vision-customvision) (3.2.2)\n",
      "Note: you may need to restart the kernel to use updated packages.\n"
     ]
    }
   ],
   "source": [
    "# Azure 서버에서 패키지를 설치 (필요한 것  CustomVision)\n",
    "%pip install azure-cognitiveservices-vision-customvision"
   ]
  },
  {
   "cell_type": "code",
   "execution_count": 1,
   "metadata": {},
   "outputs": [],
   "source": [
    "# 설치한 Azure Pakage에서 기능 import\n",
    "\n",
    "from azure.cognitiveservices.vision.customvision.training import CustomVisionTrainingClient\n",
    "from azure.cognitiveservices.vision.customvision.training.models import ImageFileCreateEntry\n",
    "from msrest.authentication import ApiKeyCredentials\n",
    "#Credentials : key보다 더 높은 보안성을 가지고 권한을 부여함. -> credentials를 사용할 수 있는 package"
   ]
  },
  {
   "cell_type": "code",
   "execution_count": 2,
   "metadata": {},
   "outputs": [],
   "source": [
    "# Azure Resource의 미리 만들어둔 endpoint와 key값 입력\n",
    "\n",
    "# training 객체 생성성\n",
    "endpoint = 'https://labuser10customvision.cognitiveservices.azure.com/'\n",
    "training_key = 'ed10c92c84654102881c541d801308e2'"
   ]
  },
  {
   "cell_type": "code",
   "execution_count": 7,
   "metadata": {},
   "outputs": [],
   "source": [
    "# publish 할 모델의 이름을 지정\n",
    "\n",
    "publish_interation_name = 'GreatWall_Model_10'\n",
    "credentials = ApiKeyCredentials(in_headers={'Training-key': training_key})"
   ]
  },
  {
   "cell_type": "code",
   "execution_count": 4,
   "metadata": {},
   "outputs": [],
   "source": [
    "# train 객체를 만드는 작업\n",
    "\n",
    "trainer = CustomVisionTrainingClient(endpoint, credentials)"
   ]
  },
  {
   "cell_type": "code",
   "execution_count": null,
   "metadata": {},
   "outputs": [],
   "source": [
    "# Create a new project / 새로운 프로젝트 작업\n",
    "\n",
    "print('Creating project....')\n",
    "project_name = 'GreatWall_10'   # 프로젝트 이름 지정\n",
    "project = trainer.create_project(project_name)  # project_name(GreatWall_10)이라는 이름으로 프로젝트 메모리에 생성\n",
    "\n",
    "# www.customvision.ai에 프로젝트가 생성됨!"
   ]
  },
  {
   "cell_type": "code",
   "execution_count": null,
   "metadata": {},
   "outputs": [],
   "source": [
    "# 프로젝트 내에 Tag 생성\n",
    "# customvision.ai에서 이미지 업로드\n",
    "\n",
    "JjaJangMien_tag = trainer.create_tag(project.id, 'JjaJangMien')\n",
    "JjangPon_tag = trainer.create_tag(project.id, 'JjangPon')\n",
    "BangSuYuk_tag = trainer.create_tag(project.id, 'BangSuYuk')"
   ]
  },
  {
   "cell_type": "code",
   "execution_count": null,
   "metadata": {},
   "outputs": [],
   "source": [
    "# 학습의 시작\n",
    "import time # time 이라는 module을 사용해서 10초 대기 시간 부여\n",
    "\n",
    "print('Training......')\n",
    "iteration = trainer.train_project(project.id) # project.id 에서 학습을 시작하겠다. -> iteration 이라는 이름으로 저장\n",
    "while (iteration.status != 'Completed'):      # 학습 상태가 아니면 while에서 끊겠다.completed 상태로 종료.\n",
    "  iteration = trainer.get_iteration(project.id, iteration.id)\n",
    "  print('Training status: ' + iteration.status) # 학습 상태일 때\n",
    "  print('Waiting 10 sceonds...')  # 10초에 한 번씩 찍어야함\n",
    "  time.sleep(10)    # 10초에 한 번 씩 프로젝트가 끝났는지 체크 -> 10초 마다 상태가 Completed인지 확인 while training end"
   ]
  },
  {
   "cell_type": "code",
   "execution_count": null,
   "metadata": {},
   "outputs": [],
   "source": [
    "# 예측, 추론하는 부분\n",
    "\n",
    "# predict clinet를 가져와서 예측을 할거다.\n",
    "from azure.cognitiveservices.vision.customvision.prediction import CustomVisionPredictionClient"
   ]
  },
  {
   "cell_type": "code",
   "execution_count": null,
   "metadata": {},
   "outputs": [],
   "source": [
    "# predict client의 key와 endpoint를 입력력\n",
    "\n",
    "prediction_key = 'faf623cd34134901b2d7bbdcc29fc9c4'\n",
    "prediction_endpoint = 'https://labuser10customvision-prediction.cognitiveservices.azure.com/'\n",
    "\n",
    "prediction_credential = ApiKeyCredentials(\n",
    "    in_headers={'Prediction-key': prediction_key})"
   ]
  },
  {
   "cell_type": "code",
   "execution_count": null,
   "metadata": {},
   "outputs": [],
   "source": [
    "# 예측하는 리소스의 생성\n",
    "\n",
    "predictor = CustomVisionPredictionClient(prediction_endpoint, \n",
    "                                         prediction_credential) # (주소,credential)을 입력해서 클라이언트에 접속"
   ]
  },
  {
   "cell_type": "code",
   "execution_count": null,
   "metadata": {},
   "outputs": [],
   "source": [
    "# 예측할 이미지의 주소를 입력 (구글링 : 짜장면)\n",
    "\n",
    "target_image_url = 'https://encrypted-tbn0.gstatic.com/images?q=tbn:ANd9GcSO-lQuygALNs_owASbp9RL4rTnMzwz0zM2pw&usqp=CAU'\n",
    "result = predictor.classify_image_url(project.id,\n",
    "                                      'Iteration1',   # customvision.ai에서 publish 한 이름을 가져와서\n",
    "                                      target_image_url)    # img의 url을 가지고 실제로 predictor가 분석을 실행하도록 함"
   ]
  },
  {
   "cell_type": "code",
   "execution_count": null,
   "metadata": {},
   "outputs": [],
   "source": [
    "# 예측한 결과들 불러오기\n",
    "\n",
    "for prediction in result.predictions :   # 예측한 결과들이 반복적으로 나타나게됨\n",
    "  print('\\t'+ prediction.tag_name + ': {0:.2f}%'.format(prediction.probability * 100) ) \n",
    "# 결과값의 포맷을 정해줌 -> 소수점 둘째자리 까지 0:2f\n",
    "# probability : 1을 기준으로 퍼센테이지로 보이기 위해서 100을 곱함 -> predictiom 객체의 속성이라 괄호가 없음, 메소드\n",
    "# 속성은 변수 / 메소드는 함수\n",
    "\n",
    "# 각각의 태그 네임에 따라서 몇 플"
   ]
  }
 ],
 "metadata": {
  "kernelspec": {
   "display_name": "Python 3",
   "language": "python",
   "name": "python3"
  },
  "language_info": {
   "codemirror_mode": {
    "name": "ipython",
    "version": 3
   },
   "file_extension": ".py",
   "mimetype": "text/x-python",
   "name": "python",
   "nbconvert_exporter": "python",
   "pygments_lexer": "ipython3",
   "version": "3.10.9"
  },
  "orig_nbformat": 4
 },
 "nbformat": 4,
 "nbformat_minor": 2
}
