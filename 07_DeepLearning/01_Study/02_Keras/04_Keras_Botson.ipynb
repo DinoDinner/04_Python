{
 "cells": [
  {
   "cell_type": "code",
   "execution_count": 18,
   "metadata": {},
   "outputs": [],
   "source": [
    "# BOston 부동산 가격 Dataset 호출\n",
    "\n",
    "from keras.datasets import boston_housing\n",
    "(train_data,train_labels),(test_data,test_labels) = boston_housing.load_data()"
   ]
  },
  {
   "cell_type": "code",
   "execution_count": 19,
   "metadata": {},
   "outputs": [
    {
     "name": "stdout",
     "output_type": "stream",
     "text": [
      "(404, 13)\n",
      "(102, 13)\n"
     ]
    }
   ],
   "source": [
    "# 호출한 Dataset Shape 확인\n",
    "\n",
    "print(train_data.shape)\n",
    "print(test_data.shape)"
   ]
  },
  {
   "cell_type": "code",
   "execution_count": 20,
   "metadata": {},
   "outputs": [
    {
     "name": "stdout",
     "output_type": "stream",
     "text": [
      "[  1.23247   0.        8.14      0.        0.538     6.142    91.7\n",
      "   3.9769    4.      307.       21.      396.9      18.72   ]\n"
     ]
    }
   ],
   "source": [
    "print(train_data[0])\n",
    "# Data의 차이가 서로 큼 -> 영향이 너무 커진다.\n",
    "# Scaling 필요함.\n",
    "# column 총 13개"
   ]
  },
  {
   "cell_type": "code",
   "execution_count": 21,
   "metadata": {},
   "outputs": [
    {
     "name": "stdout",
     "output_type": "stream",
     "text": [
      "[3.74511057e+00 1.14801980e+01 1.11044307e+01 6.18811881e-02\n",
      " 5.57355941e-01 6.26708168e+00 6.90106436e+01 3.74027079e+00\n",
      " 9.44059406e+00 4.05898515e+02 1.84759901e+01 3.54783168e+02\n",
      " 1.27408168e+01]\n"
     ]
    },
    {
     "data": {
      "text/plain": [
       "array([-0.27224633, -0.48361547, -0.43576161, -0.25683275, -0.1652266 ,\n",
       "       -0.1764426 ,  0.81306188,  0.1166983 , -0.62624905, -0.59517003,\n",
       "        1.14850044,  0.44807713,  0.8252202 ])"
      ]
     },
     "execution_count": 21,
     "metadata": {},
     "output_type": "execute_result"
    }
   ],
   "source": [
    "# Data Preprocessing - Standard Scaling\n",
    "# by 수동\n",
    "\n",
    "mean = train_data.mean(axis=0)\n",
    "# 0번 축을 기준으로 각 column 별로 평균치를 추출\n",
    "print(mean)\n",
    "\n",
    "train_data -= mean\n",
    "# train_data = train_data - mean 과 같은 표헌\n",
    "# Broadcating 개념 : 차원이 다르더라도 계산이 된다 -> train_data에서 평균치를 다 뺼 수 있다.\n",
    "\n",
    "std = train_data.std(axis=0)\n",
    "# train_data의 표준 편차를 구하기\n",
    "# axis=0 는 모든 column을 지정해주는 라인.\n",
    "\n",
    "train_data /= std\n",
    "# train_data를 표준 편차로 나눔\n",
    "\n",
    "train_data[0]"
   ]
  },
  {
   "cell_type": "code",
   "execution_count": 22,
   "metadata": {},
   "outputs": [],
   "source": [
    "# Model의 구성\n",
    "\n",
    "from keras import models\n",
    "from keras import layers\n",
    "\n",
    "def build_model():\n",
    "    model = models.Sequential()\n",
    "    # Regression용 Sequnential 모델 사용\n",
    "\n",
    "    model.add(layers.Dense(64, activation='relu', input_shape=(train_data.shape[1],)))\n",
    "    model.add(layers.Dense(64, activation='relu'))\n",
    "    model.add(layers.Dense(1))\n",
    "    # 회기 값은 그대로 나오면 되기 때문에 activation 지정 안해도 괜찮다.\n",
    "\n",
    "    model.compile(optimizer='rmsprop',\n",
    "                loss=['mse'],\n",
    "                metrics=['mse'])\n",
    "    return model\n",
    "\n",
    "# 모델을 여러 번 사용하기 위해서 bulid_model 이란 함수로 정의!\n",
    "# K-Folder 검증을 위해서 여러번 사용해야함"
   ]
  },
  {
   "cell_type": "code",
   "execution_count": 23,
   "metadata": {},
   "outputs": [
    {
     "name": "stdout",
     "output_type": "stream",
     "text": [
      "처리중인 폴드 # 0\n",
      "Model: \"sequential_8\"\n",
      "_________________________________________________________________\n",
      " Layer (type)                Output Shape              Param #   \n",
      "=================================================================\n",
      " dense_24 (Dense)            (None, 64)                896       \n",
      "                                                                 \n",
      " dense_25 (Dense)            (None, 64)                4160      \n",
      "                                                                 \n",
      " dense_26 (Dense)            (None, 1)                 65        \n",
      "                                                                 \n",
      "=================================================================\n",
      "Total params: 5,121\n",
      "Trainable params: 5,121\n",
      "Non-trainable params: 0\n",
      "_________________________________________________________________\n",
      "4/4 [==============================] - 0s 2ms/step - loss: 6.8176 - mse: 6.8176\n",
      "6.817623138427734 6.817623138427734\n",
      "처리중인 폴드 # 1\n",
      "Model: \"sequential_9\"\n",
      "_________________________________________________________________\n",
      " Layer (type)                Output Shape              Param #   \n",
      "=================================================================\n",
      " dense_27 (Dense)            (None, 64)                896       \n",
      "                                                                 \n",
      " dense_28 (Dense)            (None, 64)                4160      \n",
      "                                                                 \n",
      " dense_29 (Dense)            (None, 1)                 65        \n",
      "                                                                 \n",
      "=================================================================\n",
      "Total params: 5,121\n",
      "Trainable params: 5,121\n",
      "Non-trainable params: 0\n",
      "_________________________________________________________________\n",
      "4/4 [==============================] - 0s 1ms/step - loss: 11.5483 - mse: 11.5483\n",
      "11.54828929901123 11.54828929901123\n",
      "처리중인 폴드 # 2\n",
      "Model: \"sequential_10\"\n",
      "_________________________________________________________________\n",
      " Layer (type)                Output Shape              Param #   \n",
      "=================================================================\n",
      " dense_30 (Dense)            (None, 64)                896       \n",
      "                                                                 \n",
      " dense_31 (Dense)            (None, 64)                4160      \n",
      "                                                                 \n",
      " dense_32 (Dense)            (None, 1)                 65        \n",
      "                                                                 \n",
      "=================================================================\n",
      "Total params: 5,121\n",
      "Trainable params: 5,121\n",
      "Non-trainable params: 0\n",
      "_________________________________________________________________\n",
      "4/4 [==============================] - 0s 2ms/step - loss: 14.7224 - mse: 14.7224\n",
      "14.722429275512695 14.722429275512695\n",
      "처리중인 폴드 # 3\n",
      "Model: \"sequential_11\"\n",
      "_________________________________________________________________\n",
      " Layer (type)                Output Shape              Param #   \n",
      "=================================================================\n",
      " dense_33 (Dense)            (None, 64)                896       \n",
      "                                                                 \n",
      " dense_34 (Dense)            (None, 64)                4160      \n",
      "                                                                 \n",
      " dense_35 (Dense)            (None, 1)                 65        \n",
      "                                                                 \n",
      "=================================================================\n",
      "Total params: 5,121\n",
      "Trainable params: 5,121\n",
      "Non-trainable params: 0\n",
      "_________________________________________________________________\n",
      "4/4 [==============================] - 0s 2ms/step - loss: 11.3830 - mse: 11.3830\n",
      "11.383012771606445 11.383012771606445\n"
     ]
    }
   ],
   "source": [
    "# K-folder 검증을 사용한 훈련 검증\n",
    "\n",
    "import numpy as np\n",
    "\n",
    "k = 4 # folder 개수\n",
    "num_val_samples = len(train_data)//4 # 한 Folder에 들어가는 train_data 수\n",
    "all_scores = [] \n",
    "\n",
    "for i in range(k):  # 총 4번 반복한다\n",
    "    print('처리중인 폴드 #', i)\n",
    " \n",
    "    # 검증 데이터의 준비\n",
    "    val_data = train_data[i*num_val_samples:(i+1)*num_val_samples]\n",
    "    val_labels = train_labels[i*num_val_samples:(i+1)*num_val_samples]\n",
    "    \n",
    "    # 학습 데이터의 준비\n",
    "    data1 = train_data[:i*num_val_samples]\n",
    "    data2 = train_data[(i+1)*num_val_samples:]\n",
    "    data1_labels = train_labels[:i*num_val_samples]\n",
    "    data2_labels = train_labels[(i+1)*num_val_samples:]\n",
    "\n",
    "    # 나눈 데이터 다시 합친다\n",
    "    partial_train_data = np.concatenate([data1,data2],axis=0)\n",
    "    partial_train_labels = np.concatenate([data1_labels,data2_labels],axis=0)\n",
    "    \n",
    "    # 모델의 학습\n",
    "    model = build_model()\n",
    "    model.summary()\n",
    "    \n",
    "    model.fit(partial_train_data,\n",
    "              partial_train_labels,\n",
    "              epochs=500,\n",
    "              batch_size=128,\n",
    "              verbose=0) # 훈련상황 보여주지 않음\n",
    "    \n",
    "    # 모델의 검증\n",
    "    val_mse, val_mae = model.evaluate(val_data,val_labels)\n",
    "    print(val_mse,val_mae)\n",
    "    all_scores.append(val_mae)"
   ]
  },
  {
   "cell_type": "code",
   "execution_count": 24,
   "metadata": {},
   "outputs": [
    {
     "data": {
      "text/plain": [
       "11.117838621139526"
      ]
     },
     "execution_count": 24,
     "metadata": {},
     "output_type": "execute_result"
    }
   ],
   "source": [
    "# parameter : 모델의 복잡도를 보여줌\n",
    "# 같은 성능일 때 parameter가 낮은게 부하가 적다\n",
    "\n",
    "np.mean(all_scores)"
   ]
  }
 ],
 "metadata": {
  "kernelspec": {
   "display_name": "base",
   "language": "python",
   "name": "python3"
  },
  "language_info": {
   "codemirror_mode": {
    "name": "ipython",
    "version": 3
   },
   "file_extension": ".py",
   "mimetype": "text/x-python",
   "name": "python",
   "nbconvert_exporter": "python",
   "pygments_lexer": "ipython3",
   "version": "3.9.12"
  },
  "orig_nbformat": 4
 },
 "nbformat": 4,
 "nbformat_minor": 2
}
