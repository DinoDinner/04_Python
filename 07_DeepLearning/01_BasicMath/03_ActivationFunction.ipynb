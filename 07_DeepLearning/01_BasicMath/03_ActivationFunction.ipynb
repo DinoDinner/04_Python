{
 "cells": [
  {
   "cell_type": "code",
   "execution_count": 1,
   "metadata": {},
   "outputs": [],
   "source": [
    "# Activation Function\n",
    "\n",
    "import math\n",
    "import numpy as np\n",
    "import matplotlib.pyplot as plt"
   ]
  },
  {
   "cell_type": "code",
   "execution_count": 17,
   "metadata": {},
   "outputs": [
    {
     "name": "stdout",
     "output_type": "stream",
     "text": [
      "0\n",
      "0\n",
      "1\n",
      "[1 1 0 1 0]\n"
     ]
    },
    {
     "name": "stderr",
     "output_type": "stream",
     "text": [
      "/var/folders/0l/zxkj_qvj2tgfw662_wp9n0vw0000gn/T/ipykernel_46278/2056934332.py:19: DeprecationWarning: `np.int` is a deprecated alias for the builtin `int`. To silence this warning, use `int` by itself. Doing this will not modify any behavior and is safe. When replacing `np.int`, you may wish to use e.g. `np.int64` or `np.int32` to specify the precision. If you wish to review your current use, check the release note link for additional information.\n",
      "Deprecated in NumPy 1.20; for more details and guidance: https://numpy.org/devdocs/release/1.20.0-notes.html#deprecations\n",
      "  return y.astype(np.int)\n"
     ]
    }
   ],
   "source": [
    "# Step Function (계단함수)\n",
    "\n",
    "def step_function(x):\n",
    "  if x > 0:\n",
    "    return 1\n",
    "  else:\n",
    "    return 0\n",
    "\n",
    "# 0 이상이면 1 /  0 미만이면 0 \n",
    "print(step_function(0))\n",
    "print(step_function(-1))\n",
    "print(step_function(0.1))\n",
    "\n",
    "# Step Function Numpy Array 활용\n",
    "\n",
    "def step_function_for_numpy(x):\n",
    "  y = x > 0\n",
    "  return y.astype(np.int)\n",
    "# Int Type Numpy로 설정\n",
    "\n",
    "a = np.array([5,3,-4,2,0])\n",
    "print(step_function_for_numpy(a))"
   ]
  },
  {
   "cell_type": "code",
   "execution_count": 15,
   "metadata": {},
   "outputs": [
    {
     "name": "stdout",
     "output_type": "stream",
     "text": [
      "0.9525741268224334\n",
      "0.9999546021312976\n",
      "1.0\n",
      "0.04742587317756678\n",
      "3.7200759760208356e-44\n"
     ]
    }
   ],
   "source": [
    "# Sigmoid Fuction (시그모이드 함수)\n",
    "# 다중클래스 분류에 사용, 기점을 중심으로 분리를 해줌\n",
    "\n",
    "def sigmoid(x):\n",
    "    return 1/ (1+np.exp(-x))\n",
    "# exp : 지수함수(e^x) 그래프\n",
    "\n",
    "print(sigmoid(3))\n",
    "print(sigmoid(10))\n",
    "print(sigmoid(100))\n",
    "print(sigmoid(-3))\n",
    "print(sigmoid(-100))"
   ]
  },
  {
   "cell_type": "code",
   "execution_count": 24,
   "metadata": {},
   "outputs": [
    {
     "name": "stderr",
     "output_type": "stream",
     "text": [
      "/var/folders/0l/zxkj_qvj2tgfw662_wp9n0vw0000gn/T/ipykernel_46278/2056934332.py:19: DeprecationWarning: `np.int` is a deprecated alias for the builtin `int`. To silence this warning, use `int` by itself. Doing this will not modify any behavior and is safe. When replacing `np.int`, you may wish to use e.g. `np.int64` or `np.int32` to specify the precision. If you wish to review your current use, check the release note link for additional information.\n",
      "Deprecated in NumPy 1.20; for more details and guidance: https://numpy.org/devdocs/release/1.20.0-notes.html#deprecations\n",
      "  return y.astype(np.int)\n"
     ]
    },
    {
     "data": {
      "text/plain": [
       "<matplotlib.legend.Legend at 0x10d93a750>"
      ]
     },
     "execution_count": 24,
     "metadata": {},
     "output_type": "execute_result"
    },
    {
     "data": {
      "image/png": "[encoded data removed]",
      "text/plain": [
       "<Figure size 640x480 with 1 Axes>"
      ]
     },
     "metadata": {},
     "output_type": "display_data"
    }
   ],
   "source": [
    "# Setp Function vs Sigmoid Function\n",
    "\n",
    "x = np.arange(-5,5,0.01)\n",
    "y1 = sigmoid(x)\n",
    "y2 = step_function_for_numpy(x)\n",
    "\n",
    "plt.plot(x,y1,'-r',label='sigmod')\n",
    "plt.plot(x,y2,'--b',label='step_function')\n",
    "plt.legend()\n",
    "# RedLine : Sidmoid\n",
    "# BlueLine : StepFunction\n",
    "\n",
    "# 그래프 2개를 동시에 그릴 수 있음\n",
    "# plt.plot(x,y1,'-r',x,y2,'--b')"
   ]
  },
  {
   "cell_type": "code",
   "execution_count": 9,
   "metadata": {},
   "outputs": [],
   "source": [
    "# ReLu (Rectified Linear Unit)\n",
    "# 바로잡힌 선형, 0 초과만 그대로 출력\n",
    "\n",
    "def ReLU(x):\n",
    "  if x > 0:\n",
    "    return x\n",
    "  else:\n",
    "    return 0\n",
    "  \n",
    "print(ReLU(5))\n",
    "print(ReLU(-5))"
   ]
  },
  {
   "cell_type": "code",
   "execution_count": 11,
   "metadata": {},
   "outputs": [],
   "source": [
    "# Identity Function (항등함수)\n",
    "# y = x\n",
    "\n",
    "def identity_function(x):\n",
    "  return x\n",
    "\n",
    "# 값은 그대로 나옴"
   ]
  },
  {
   "cell_type": "code",
   "execution_count": 37,
   "metadata": {},
   "outputs": [
    {
     "name": "stdout",
     "output_type": "stream",
     "text": [
      "[0.0443832  0.04015958 0.66041009 0.01209583 0.2429513 ]\n",
      "1.0\n"
     ]
    }
   ],
   "source": [
    "# Softmax\n",
    "# 다중 클래스 분류에 사용\n",
    "\n",
    "def softmax(x):\n",
    "  exp_x = np.exp(x)\n",
    "  sum_exp_x = np.sum(exp_x)\n",
    "  y = exp_x / sum_exp_x\n",
    "\n",
    "  return y\n",
    "\n",
    "x = np.array([0.3, 0.2, 3.0, -1, 2])\n",
    "print(softmax(x))\n",
    "print(np.sum(softmax(x)))\n",
    "\n",
    "# 값의 총합 = 1, 비율에 따라 값을 나눠 가짐."
   ]
  }
 ],
 "metadata": {
  "kernelspec": {
   "display_name": "Python 3",
   "language": "python",
   "name": "python3"
  },
  "language_info": {
   "codemirror_mode": {
    "name": "ipython",
    "version": 3
   },
   "file_extension": ".py",
   "mimetype": "text/x-python",
   "name": "python",
   "nbconvert_exporter": "python",
   "pygments_lexer": "ipython3",
   "version": "3.11.3"
  },
  "orig_nbformat": 4
 },
 "nbformat": 4,
 "nbformat_minor": 2
}
