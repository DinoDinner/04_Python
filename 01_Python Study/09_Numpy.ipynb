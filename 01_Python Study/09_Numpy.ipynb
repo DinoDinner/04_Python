{
 "cells": [
  {
   "cell_type": "code",
   "execution_count": 1,
   "metadata": {},
   "outputs": [],
   "source": [
    "# Numpy\n",
    "\n",
    "# 기본적으로 수학을 하는 데 가장 많이 쓰는 module\n",
    "# C언어로 개발된 Python에서 과학적계산을 위한 핵심 라이브러리. 다차원 배열 객체와 함께 작동하는 도구들을 제공한다.\n",
    "# 하지만 고수준의 데이터분석 기능을 제공하지 않기 떄문에 Numpy 계열과 Pandas와 같은 도구를 함께 사용!\n",
    "\n",
    "# 기본적으로 설치되어 있진 않음\n",
    "# https://compmath.korea.ac.kr/appmath/NumpyBasics.html -> numpy 참고 블로그"
   ]
  },
  {
   "cell_type": "code",
   "execution_count": 5,
   "metadata": {},
   "outputs": [],
   "source": [
    "# Numpy 설치\n",
    "\n",
    "import numpy as np    # as np -> 이제 numpy를 np라는 별명으로 사용하겠다! \n",
    "# Aliasing : 객체가 한 개 이상의 이름을 갖게 됨 by Reference\n",
    "# https://seungjuitmemo.tistory.com/14"
   ]
  },
  {
   "cell_type": "code",
   "execution_count": 13,
   "metadata": {},
   "outputs": [
    {
     "name": "stdout",
     "output_type": "stream",
     "text": [
      "[1 2 3 4]\n",
      "<class 'numpy.ndarray'>\n"
     ]
    }
   ],
   "source": [
    "# Numpy 배열 만들기\n",
    "\n",
    "numbers = [1,2,3,4]          #  numbers 라는 list array 생성\n",
    "arr = np.array(numbers)   # [1,2,3,4] List를 배열하겠다. / numpy.array method 사용\n",
    "print(arr)\n",
    "print(type(arr))                # type은 Numpy array라는 새로운 배열로 type이 나온다."
   ]
  },
  {
   "cell_type": "code",
   "execution_count": 12,
   "metadata": {},
   "outputs": [],
   "source": [
    "# (좌표)\n",
    "# value 1은 1차원 : 값만 생김\n",
    "\n",
    "# (선)\n",
    "# value 2는 2차원 : 방향이 생김 -> 선의 형태 (vector)\n",
    "\n",
    "# (정사각형)\n",
    "# value 3는 3차원 : 입체가 생김 -> 우리가 인식할 수 있는 한계\n",
    "\n",
    "# 그 이상의 차원은 우리가 상상해야함 -> 기본적인 구조를 Numpy가 설정해줌."
   ]
  },
  {
   "cell_type": "code",
   "execution_count": 22,
   "metadata": {},
   "outputs": [
    {
     "name": "stdout",
     "output_type": "stream",
     "text": [
      "[[0. 0. 0.]\n",
      " [0. 0. 0.]\n",
      " [0. 0. 0.]]\n"
     ]
    }
   ],
   "source": [
    "# Zeros, ones, empty를 사용해서 배열을 생성한다\n",
    "\n",
    "car = np.zeros((3,3))   # 초기 데이터를 0으로 초기화! 그리고 3,3 배열이 생김 -> 3차원 배열\n",
    "#   zeros는 기본적으롤 array를 다루기 때문에, 행열을 설정하고 싶다면 \n",
    "#   ( 행수, 열수 ) 의 형태로 괄호를 써야함!\n",
    "print(car)"
   ]
  },
  {
   "cell_type": "code",
   "execution_count": 25,
   "metadata": {},
   "outputs": [
    {
     "data": {
      "text/plain": [
       "array([[1., 1.],\n",
       "       [1., 1.]])"
      ]
     },
     "execution_count": 25,
     "metadata": {},
     "output_type": "execute_result"
    }
   ],
   "source": [
    "np.ones((2,2)) # 2차원 배열을 1로 초기화 한다!"
   ]
  },
  {
   "cell_type": "code",
   "execution_count": 41,
   "metadata": {},
   "outputs": [
    {
     "name": "stdout",
     "output_type": "stream",
     "text": [
      "[[ 0.62187997 -1.13611513  0.89216477 -1.36413347]\n",
      " [ 1.25265431 -2.00189445 -1.23494545 -0.84050141]\n",
      " [ 0.46702544  0.35813288  0.42566918 -0.7985296 ]\n",
      " [-1.40614452  1.30951424 -0.19067034  0.08998758]]\n",
      "----초기화 이후----\n",
      "[[0.62187997 1.13611513 0.89216477 1.36413347]\n",
      " [1.25265431 2.00189445 1.23494545 0.84050141]\n",
      " [0.46702544 0.35813288 0.42566918 0.7985296 ]\n",
      " [1.40614452 1.30951424 0.19067034 0.08998758]]\n"
     ]
    }
   ],
   "source": [
    "randomN = np.random.randn(4,4)      #empty method를 설명하기 위해 랜덤 array를 생성!\n",
    "print(randomN)\n",
    "print('----초기화 이후----')\n",
    "empty44 = np.empty((4,4)) # 아무런 초기값을 지정하지 않고, 초기화를 진행함! array는 4차원\n",
    "print(empty44)\n",
    "\n",
    "# 초기화를 해도 그대로 Data가 남아있다. \n",
    "# 프로그램의 데이터를 지우고 나면, 실제로 지워지지 않음 -> 컴퓨터 상에 '지웠음' 이라고 뜰 뿐...\n",
    "# 그래서 초기화를 시켜야 가장 깔끔하게 데이터가 지워짐 하지만 0으로 초기화 시키려면 \n",
    "# 부하가 생기게 된다. 그래서 0으로 초기화 하는게 아니라 empty를 사용하면 \n",
    "# 이전의 찌꺼기가 들어가있음..!"
   ]
  },
  {
   "cell_type": "code",
   "execution_count": 62,
   "metadata": {},
   "outputs": [
    {
     "name": "stdout",
     "output_type": "stream",
     "text": [
      "[1 2 3] \n",
      "\n",
      "[[1 2 3]\n",
      " [4 5 6]] \n",
      "\n"
     ]
    }
   ],
   "source": [
    "# ndarray 배열의 모양, 차수, 데이터 타입 확인해보기\n",
    "\n",
    "arr1D = np.array([1,2,3])                                                  # 1차원\n",
    "arr2D = np.array([[1,2,3],[4,5,6]])                                     # 2차원\n",
    "# [ ] : 1차원 / [ [ ] ]: /2차원 / [ [ [ ] ] ]: 3차원\n",
    "\n",
    "#  numpy.array() method 안에 list array 형태로 들어가야하지만, \n",
    "#  2차원 이기 때문에 대괄호가 2개!\n",
    "print(arr1D,'\\n')\n",
    "print(arr2D,'\\n')"
   ]
  },
  {
   "cell_type": "code",
   "execution_count": 70,
   "metadata": {},
   "outputs": [
    {
     "name": "stdout",
     "output_type": "stream",
     "text": [
      "1\n",
      "2\n"
     ]
    }
   ],
   "source": [
    "# 데이터의 차원(dimension)을 확인\n",
    "\n",
    "print(arr1D.ndim)\n",
    "print(arr2D.ndim)   #dimension 차원을 확인!"
   ]
  },
  {
   "cell_type": "code",
   "execution_count": 72,
   "metadata": {},
   "outputs": [
    {
     "data": {
      "text/plain": [
       "(2, 3)"
      ]
     },
     "execution_count": 72,
     "metadata": {},
     "output_type": "execute_result"
    }
   ],
   "source": [
    "# 데이터의 모양(shape)을 확인\n",
    "\n",
    "arr2D.shape # 데이터의 배열 모양을 모여줌!"
   ]
  },
  {
   "cell_type": "code",
   "execution_count": 79,
   "metadata": {},
   "outputs": [
    {
     "name": "stdout",
     "output_type": "stream",
     "text": [
      "<class 'numpy.ndarray'>\n",
      "int32\n"
     ]
    }
   ],
   "source": [
    "# 데이터의 타입(type)을 확인\n",
    "\n",
    "print(type(arr2D))  # arr2D의 type을 알려줘!\n",
    "print(arr2D.dtype)\n",
    "# dtype : data type -> array '안'의 data type을 확인 할 수 있다!\n",
    "# int64(integer 64 = 64bit 정수)\n",
    "\n",
    "# 8bit : -128 0 +127 까지 표시가 가능함 \n",
    "# 16bit : -32768 0 +32767 까지 표시가 가능함 \n",
    "# 64bit : 왠만하면 모든 숫자를 표기 가능..!\n",
    "# 하지만 메모리 낭비나 처리속도 저하가 생길 수 있음. \n",
    "# 그래서 필요한 정도만 테이터 타입을 불러서 사용..\n",
    "# uint : 음수 값이 없는 int값"
   ]
  },
  {
   "cell_type": "code",
   "execution_count": 84,
   "metadata": {},
   "outputs": [
    {
     "name": "stdout",
     "output_type": "stream",
     "text": [
      "int32\n",
      "float64\n"
     ]
    }
   ],
   "source": [
    "# ndarray 배열의 타입 변환\n",
    "\n",
    "arr_int = np.array([1,2,3,4])\n",
    "print(arr_int.dtype)\n",
    "arr_float = arr_int.astype(np.float64)      # astype( ) method : 괄호 안의 type으로 바꾸고 싶다.\n",
    "#   np.int32 -> np.float64 type 변환\n",
    "print(arr_float.dtype)"
   ]
  },
  {
   "cell_type": "code",
   "execution_count": 89,
   "metadata": {},
   "outputs": [
    {
     "name": "stdout",
     "output_type": "stream",
     "text": [
      "[[ 6  8]\n",
      " [10 12]] \n",
      "\n",
      "[[-4 -4]\n",
      " [-4 -4]] \n",
      "\n",
      "[[ 5 12]\n",
      " [21 32]]\n"
     ]
    }
   ],
   "source": [
    "# 배열의 연산기능 : 사칙연산\n",
    "# 배열을 사용하는 이유!\n",
    "\n",
    "arr1 = np.array([[1,2],[3,4]])\n",
    "arr2 = np.array([[5,6],[7,8]])\n",
    "# 2D array를 2개 생성\n",
    "\n",
    "print(arr1 + arr2,'\\n')  # 같은 차원의 애들끼리 연산을 해줌. 1,2 + 5,6 / 3,4 + 7,8\n",
    "print(arr1 - arr2,'\\n')  # 뺄셈\n",
    "print(arr1 * arr2)  # 곱셈"
   ]
  },
  {
   "cell_type": "code",
   "execution_count": 90,
   "metadata": {},
   "outputs": [
    {
     "name": "stdout",
     "output_type": "stream",
     "text": [
      "[[ 6  8]\n",
      " [10 12]] \n",
      "\n",
      "[[ 5 12]\n",
      " [21 32]]\n"
     ]
    }
   ],
   "source": [
    "# 배열의 연산기능 : Method\n",
    "\n",
    "print(np.add(arr1, arr2),'\\n')       # method를 이용한 방법도 있다! add(+)\n",
    "print(np.multiply(arr1, arr2))  # multiply : 곱셈\n",
    "\n",
    "# 여러개의 메소드를 사용할 때는 print를 꼭 붙여서 사용하기\n",
    "# numpy에서는 instance를 사용하지 않아도 크게 문제가 없음\n"
   ]
  },
  {
   "cell_type": "code",
   "execution_count": 118,
   "metadata": {},
   "outputs": [
    {
     "name": "stdout",
     "output_type": "stream",
     "text": [
      "[[1 2 3]\n",
      " [4 5 6]] \n",
      "\n",
      "[[1 2 3]] \n",
      "\n",
      "[[2 3]\n",
      " [5 6]] \n",
      "\n"
     ]
    }
   ],
   "source": [
    "# nparray Slicing 해보기\n",
    "\n",
    "arr_1 = arr[:1, :3]\n",
    "# :1 -> 앞 에서 부터 1번 list까지 -> [1,2,3]중에서\n",
    "# 0:3 -> index 0에서 2까지 -> [1,2]추출 \n",
    "# 실제로 index 3의 데이터는 존재 하지 않지만, 문법상 int type의 slicing은 a:b-1 까지 취급\n",
    "\n",
    "arr_2 = arr[ :2, 1:3 ]\n",
    "# :2 -> 앞 에서 부터 2번 list까지 -> [1,2,3], [4,5,6] 중에서\n",
    "# 1:3 -> index 1에서 2까지 -> [2,3], [5,6] 추출 \n",
    "\n",
    "print(arr,'\\n')\n",
    "print(arr_1,'\\n')\n",
    "print(arr_2,'\\n')"
   ]
  },
  {
   "cell_type": "code",
   "execution_count": 122,
   "metadata": {},
   "outputs": [
    {
     "data": {
      "text/plain": [
       "3"
      ]
     },
     "execution_count": 122,
     "metadata": {},
     "output_type": "execute_result"
    }
   ],
   "source": [
    "# nparray 원하는 값 추출하기\n",
    "\n",
    "arr = np.array([[1,2,3],\n",
    "                [4,5,6],\n",
    "                [7,8,9]])\n",
    "arr[0,2] # 0번 list의 2번 index -> 3"
   ]
  },
  {
   "cell_type": "code",
   "execution_count": 126,
   "metadata": {},
   "outputs": [
    {
     "name": "stdout",
     "output_type": "stream",
     "text": [
      "[[False False False]\n",
      " [ True  True  True]]\n"
     ]
    }
   ],
   "source": [
    "# nparray 조건식 부여하기\n",
    "\n",
    "arr = np.array([[1,2,3],\n",
    "               [4,5,6]])\n",
    "idx = arr > 3   # arr의 index의 값이 3보다 큰가요? \n",
    "print(idx)"
   ]
  },
  {
   "cell_type": "code",
   "execution_count": 130,
   "metadata": {},
   "outputs": [
    {
     "data": {
      "text/plain": [
       "array([4, 5, 6])"
      ]
     },
     "execution_count": 130,
     "metadata": {},
     "output_type": "execute_result"
    }
   ],
   "source": [
    "# true or false의 결과를 받고\n",
    "\n",
    "arr[idx]\n",
    "# 그 데이터를 가지고, 값을 추출!"
   ]
  },
  {
   "cell_type": "code",
   "execution_count": 150,
   "metadata": {},
   "outputs": [],
   "source": [
    "# csv 파일 불러오기\n",
    "# https://firework-ham.tistory.com/49 -> numpy csv 파일 불러오기\n",
    "\n",
    "redwine = np.loadtxt(fname='../99_Src/csv/winequality-red.csv', delimiter=';', skiprows=1)\n",
    "# fname : file name -> 불러올 파일의 이름 (나의 경우는 ./99_Src/csv 폴더에 있음)\n",
    "# delimiter : 불러온 csv 파일의 구분자에 따라서 맞춰줘야함! ->  ; 로 구분\n",
    "# skiprows = 1 -> 첫 번째 줄은 건너뜀"
   ]
  },
  {
   "cell_type": "code",
   "execution_count": 156,
   "metadata": {},
   "outputs": [
    {
     "name": "stdout",
     "output_type": "stream",
     "text": [
      "[[ 7.4    0.7    0.    ...  0.56   9.4    5.   ]\n",
      " [ 7.8    0.88   0.    ...  0.68   9.8    5.   ]\n",
      " [ 7.8    0.76   0.04  ...  0.65   9.8    5.   ]\n",
      " ...\n",
      " [ 6.3    0.51   0.13  ...  0.75  11.     6.   ]\n",
      " [ 5.9    0.645  0.12  ...  0.71  10.2    5.   ]\n",
      " [ 6.     0.31   0.47  ...  0.66  11.     6.   ]]\n",
      "float64\n"
     ]
    },
    {
     "data": {
      "text/plain": [
       "(1599, 12)"
      ]
     },
     "execution_count": 156,
     "metadata": {},
     "output_type": "execute_result"
    }
   ],
   "source": [
    "print(redwine)  # 정상적으로 csv 파일이 불러짐!\n",
    "print(redwine.dtype)    # 소수점도 있기 때문에 실수 float type!\n",
    "redwine.shape     # scv의 모양  row 1599개 / column 12개"
   ]
  },
  {
   "cell_type": "code",
   "execution_count": 141,
   "metadata": {},
   "outputs": [],
   "source": [
    "# 기초 통계 함수 정리\n",
    "\n",
    "# sum : 합계\n",
    "# mean : 평균\n",
    "# std : 표준 편차\n",
    "# var : 분산 (std의 제곱) -> 표준편차를 확대해서 더 극적이게 보임\n",
    "# min : 최소값\n",
    "# max : 최대값\n"
   ]
  },
  {
   "cell_type": "code",
   "execution_count": 153,
   "metadata": {},
   "outputs": [
    {
     "name": "stdout",
     "output_type": "stream",
     "text": [
      "152084.78194 \n",
      "\n",
      "[13303.1       843.985     433.29     4059.55      139.859   25384.\n",
      " 74302.       1593.79794  5294.47     1052.38    16666.35     9012.     ] \n",
      "\n",
      "[ 8.31963727  0.52782051  0.27097561  2.5388055   0.08746654 15.87492183\n",
      " 46.46779237  0.99674668  3.3111132   0.65814884 10.42298311  5.63602251] \n",
      "\n"
     ]
    }
   ],
   "source": [
    "print(redwine.sum(),'\\n')  \n",
    "# 전체 데이터의 합계 \n",
    "# -> 이 자체는 의미가 크게 없음, column별로 데이터를 만드는 것이 중요!\n",
    "\n",
    "print(redwine.sum(axis=0),'\\n') \n",
    "# 자신이 원하는 방향(축)을 중심으로 결과를 내야함\n",
    "\n",
    "print(redwine.mean(axis=0),'\\n') \n",
    "# 평균을 찾기 / 5점대가 평균, 퀄리티, 5 이상이면 평균이상! \n",
    "# 알콜은 10도 이상이 되어야 평균\n",
    "\n",
    "# 가로 : 0번축 = 칼럼별 평균 / 세로 : 1번축 = 항목별 평균\n",
    "# http://taewan.kim/post/numpy_sum_axis/#case-1-axis-none -> numpy array의 이해\n",
    "# axis(축) : array의 dimension에 따라서 주어지며, n차원은 n-1의 axis를 가짐.\n",
    "# axis는 데이터를 방향(x축, y축, depth축)에 따라 합을 해준다."
   ]
  },
  {
   "cell_type": "code",
   "execution_count": 160,
   "metadata": {},
   "outputs": [
    {
     "name": "stdout",
     "output_type": "stream",
     "text": [
      "8.31963727329581\n"
     ]
    }
   ],
   "source": [
    "print(redwine[:,0].mean()) # 전체 row(value)중 0번 column(key)의 평균을 구한다.\n",
    "# 실제 scv의 0번 column(key)는 fixed acidity다. 그 평균값!"
   ]
  },
  {
   "cell_type": "code",
   "execution_count": 163,
   "metadata": {},
   "outputs": [
    {
     "name": "stdout",
     "output_type": "stream",
     "text": [
      "[ 15.9       1.58      1.       15.5       0.611    72.      289.\n",
      "   1.00369   4.01      2.       14.9       8.     ]\n",
      "[4.6     0.12    0.      0.9     0.012   1.      6.      0.99007 2.74\n",
      " 0.33    8.4     3.     ]\n"
     ]
    }
   ],
   "source": [
    "print(redwine.max(axis=0))  # 각 column 최대  value들\n",
    "print(redwine.min(axis=0))  # 각 column의 최소  value들"
   ]
  }
 ],
 "metadata": {
  "kernelspec": {
   "display_name": "base",
   "language": "python",
   "name": "python3"
  },
  "language_info": {
   "codemirror_mode": {
    "name": "ipython",
    "version": 3
   },
   "file_extension": ".py",
   "mimetype": "text/x-python",
   "name": "python",
   "nbconvert_exporter": "python",
   "pygments_lexer": "ipython3",
   "version": "3.10.9"
  },
  "orig_nbformat": 4
 },
 "nbformat": 4,
 "nbformat_minor": 2
}
