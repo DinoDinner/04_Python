{
 "cells": [
  {
   "cell_type": "code",
   "execution_count": 1,
   "metadata": {},
   "outputs": [],
   "source": [
    "# Numpy\n",
    "# 기본적으로 수학을 하는 데 가장 많이 쓰는 module\n",
    "# C언어로 개발된 Python에서 과학적계산을 위한 핵심 라이브러리. 다차원 배열 객체와 함께 작동하는 도구들을 제공한다.\n",
    "# 하지만 고수준의 데이터분석 기능을 제공하지 않기 떄문에 Numpy 계열과 Pandas와 같은 도구를 함께 사용!\n",
    "\n",
    "# 기본적으로 설치되어 있진 않음\n",
    "# https://compmath.korea.ac.kr/appmath/NumpyBasics.html -> numpy 참고 블로그"
   ]
  },
  {
   "cell_type": "code",
   "execution_count": 5,
   "metadata": {},
   "outputs": [],
   "source": [
    "# Numpy 설치\n",
    "\n",
    "import numpy as np    # as np -> 이제 numpy를 np라는 별명으로 사용하겠다! \n",
    "# Aliasing : 객체가 한 개 이상의 이름을 갖게 됨 by Reference\n",
    "# https://seungjuitmemo.tistory.com/14"
   ]
  },
  {
   "cell_type": "code",
   "execution_count": 13,
   "metadata": {},
   "outputs": [
    {
     "name": "stdout",
     "output_type": "stream",
     "text": [
      "[1 2 3 4]\n",
      "<class 'numpy.ndarray'>\n"
     ]
    }
   ],
   "source": [
    "# Numpy 배열 만들기\n",
    "\n",
    "numbers = [1,2,3,4]          #  numbers 라는 list array 생성\n",
    "arr = np.array(numbers)   # [1,2,3,4] List를 배열하겠다. / numpy.array method 사용\n",
    "print(arr)\n",
    "print(type(arr))                # type은 Numpy array라는 새로운 배열로 type이 나온다."
   ]
  },
  {
   "cell_type": "code",
   "execution_count": 12,
   "metadata": {},
   "outputs": [],
   "source": [
    "# (좌표)\n",
    "# value 1은 1차원 : 값만 생김\n",
    "\n",
    "# (선)\n",
    "# value 2는 2차원 : 방향이 생김 -> 선의 형태 (vector)\n",
    "\n",
    "# (정사각형)\n",
    "# value 3는 3차원 : 입체가 생김 -> 우리가 인식할 수 있는 한계\n",
    "\n",
    "# 그 이상의 차원은 우리가 상상해야함 -> 기본적인 구조를 Numpy가 설정해줌."
   ]
  },
  {
   "cell_type": "code",
   "execution_count": 22,
   "metadata": {},
   "outputs": [
    {
     "name": "stdout",
     "output_type": "stream",
     "text": [
      "[[0. 0. 0.]\n",
      " [0. 0. 0.]\n",
      " [0. 0. 0.]]\n"
     ]
    }
   ],
   "source": [
    "# Zeros, ones, empty를 사용해서 배열을 생성한다\n",
    "\n",
    "car = np.zeros((3,3))   # 초기 데이터를 0으로 초기화! 그리고 3,3 배열이 생김 -> 3차원 배열\n",
    "#   zeros는 기본적으롤 array를 다루기 때문에, 행열을 설정하고 싶다면 \n",
    "#   ( 행수, 열수 ) 의 형태로 괄호를 써야함!\n",
    "print(car)"
   ]
  },
  {
   "cell_type": "code",
   "execution_count": 25,
   "metadata": {},
   "outputs": [
    {
     "data": {
      "text/plain": [
       "array([[1., 1.],\n",
       "       [1., 1.]])"
      ]
     },
     "execution_count": 25,
     "metadata": {},
     "output_type": "execute_result"
    }
   ],
   "source": [
    "np.ones((2,2)) # 2차원 배열을 1로 초기화 한다!"
   ]
  },
  {
   "cell_type": "code",
   "execution_count": 41,
   "metadata": {},
   "outputs": [
    {
     "name": "stdout",
     "output_type": "stream",
     "text": [
      "[[ 0.62187997 -1.13611513  0.89216477 -1.36413347]\n",
      " [ 1.25265431 -2.00189445 -1.23494545 -0.84050141]\n",
      " [ 0.46702544  0.35813288  0.42566918 -0.7985296 ]\n",
      " [-1.40614452  1.30951424 -0.19067034  0.08998758]]\n",
      "----초기화 이후----\n",
      "[[0.62187997 1.13611513 0.89216477 1.36413347]\n",
      " [1.25265431 2.00189445 1.23494545 0.84050141]\n",
      " [0.46702544 0.35813288 0.42566918 0.7985296 ]\n",
      " [1.40614452 1.30951424 0.19067034 0.08998758]]\n"
     ]
    }
   ],
   "source": [
    "randomN = np.random.randn(4,4)      #empty method를 설명하기 위해 랜덤 array를 생성!\n",
    "print(randomN)\n",
    "print('----초기화 이후----')\n",
    "empty44 = np.empty((4,4)) # 아무런 초기값을 지정하지 않고, 초기화를 진행함! array는 4차원\n",
    "print(empty44)\n",
    "\n",
    "# 초기화를 해도 그대로 Data가 남아있다. \n",
    "# 프로그램의 데이터를 지우고 나면, 실제로 지워지지 않음 -> 컴퓨터 상에 '지웠음' 이라고 뜰 뿐...\n",
    "# 그래서 초기화를 시켜야 가장 깔끔하게 데이터가 지워짐 하지만 0으로 초기화 시키려면 \n",
    "# 부하가 생기게 된다. 그래서 0으로 초기화 하는게 아니라 empty를 사용하면 \n",
    "# 이전의 찌꺼기가 들어가있음..!"
   ]
  },
  {
   "cell_type": "code",
   "execution_count": 62,
   "metadata": {},
   "outputs": [
    {
     "name": "stdout",
     "output_type": "stream",
     "text": [
      "[1 2 3] \n",
      "\n",
      "[[1 2 3]\n",
      " [4 5 6]] \n",
      "\n"
     ]
    }
   ],
   "source": [
    "# ndarray 배열의 모양, 차수, 데이터 타입 확인해보기\n",
    "\n",
    "arr1D = np.array([1,2,3])                                                  # 1차원\n",
    "arr2D = np.array([[1,2,3],[4,5,6]])                                     # 2차원\n",
    "# [ ] : 1차원 / [ [ ] ]: /2차원 / [ [ [ ] ] ]: 3차원\n",
    "\n",
    "#  numpy.array() method 안에 list array 형태로 들어가야하지만, \n",
    "#  2차원 이기 때문에 대괄호가 2개!\n",
    "print(arr1D,'\\n')\n",
    "print(arr2D,'\\n')"
   ]
  },
  {
   "cell_type": "code",
   "execution_count": 70,
   "metadata": {},
   "outputs": [
    {
     "name": "stdout",
     "output_type": "stream",
     "text": [
      "1\n",
      "2\n"
     ]
    }
   ],
   "source": [
    "# 데이터의 차원(dimension)을 확인\n",
    "\n",
    "print(arr1D.ndim)\n",
    "print(arr2D.ndim)   #dimension 차원을 확인!"
   ]
  },
  {
   "cell_type": "code",
   "execution_count": 72,
   "metadata": {},
   "outputs": [
    {
     "data": {
      "text/plain": [
       "(2, 3)"
      ]
     },
     "execution_count": 72,
     "metadata": {},
     "output_type": "execute_result"
    }
   ],
   "source": [
    "# 데이터의 모양(shape)을 확인\n",
    "\n",
    "arr2D.shape # 데이터의 배열 모양을 모여줌!"
   ]
  },
  {
   "cell_type": "code",
   "execution_count": 79,
   "metadata": {},
   "outputs": [
    {
     "name": "stdout",
     "output_type": "stream",
     "text": [
      "<class 'numpy.ndarray'>\n",
      "int32\n"
     ]
    }
   ],
   "source": [
    "# 데이터의 타입(type)을 확인\n",
    "\n",
    "print(type(arr2D))  # arr2D의 type을 알려줘!\n",
    "print(arr2D.dtype)\n",
    "# dtype : data type -> array '안'의 data type을 확인 할 수 있다!\n",
    "# int64(integer 64 = 64bit 정수)\n",
    "\n",
    "# 8bit : -128 0 +127 까지 표시가 가능함 \n",
    "# 16bit : -32768 0 +32767 까지 표시가 가능함 \n",
    "# 64bit : 왠만하면 모든 숫자를 표기 가능..!\n",
    "# 하지만 메모리 낭비나 처리속도 저하가 생길 수 있음. \n",
    "# 그래서 필요한 정도만 테이터 타입을 불러서 사용..\n",
    "# uint : 음수 값이 없는 int값"
   ]
  },
  {
   "cell_type": "code",
   "execution_count": 84,
   "metadata": {},
   "outputs": [
    {
     "name": "stdout",
     "output_type": "stream",
     "text": [
      "int32\n",
      "float64\n"
     ]
    }
   ],
   "source": [
    "# ndarray 배열의 타입 변환\n",
    "\n",
    "arr_int = np.array([1,2,3,4])\n",
    "print(arr_int.dtype)\n",
    "arr_float = arr_int.astype(np.float64)      # astype( ) method : 괄호 안의 type으로 바꾸고 싶다.\n",
    "#   np.int32 -> np.float64 type 변환\n",
    "print(arr_float.dtype)"
   ]
  },
  {
   "cell_type": "code",
   "execution_count": 89,
   "metadata": {},
   "outputs": [
    {
     "name": "stdout",
     "output_type": "stream",
     "text": [
      "[[ 6  8]\n",
      " [10 12]] \n",
      "\n",
      "[[-4 -4]\n",
      " [-4 -4]] \n",
      "\n",
      "[[ 5 12]\n",
      " [21 32]]\n"
     ]
    }
   ],
   "source": [
    "# 배열의 연산기능 : 사칙연산\n",
    "# 배열을 사용하는 이유!\n",
    "\n",
    "arr1 = np.array([[1,2],[3,4]])\n",
    "arr2 = np.array([[5,6],[7,8]])\n",
    "# 2D array를 2개 생성\n",
    "\n",
    "print(arr1 + arr2,'\\n')  # 같은 차원의 애들끼리 연산을 해줌. 1,2 + 5,6 / 3,4 + 7,8\n",
    "print(arr1 - arr2,'\\n')  # 뺄셈\n",
    "print(arr1 * arr2)  # 곱셈"
   ]
  },
  {
   "cell_type": "code",
   "execution_count": 90,
   "metadata": {},
   "outputs": [
    {
     "name": "stdout",
     "output_type": "stream",
     "text": [
      "[[ 6  8]\n",
      " [10 12]] \n",
      "\n",
      "[[ 5 12]\n",
      " [21 32]]\n"
     ]
    }
   ],
   "source": [
    "# 배열의 연산기능 : Method\n",
    "\n",
    "print(np.add(arr1, arr2),'\\n')       # method를 이용한 방법도 있다! add(+)\n",
    "print(np.multiply(arr1, arr2))  # multiply : 곱셈\n",
    "\n",
    "# 여러개의 메소드를 사용할 때는 print를 꼭 붙여서 사용하기\n",
    "# numpy에서는 instance를 사용하지 않아도 크게 문제가 없음\n"
   ]
  },
  {
   "cell_type": "code",
   "execution_count": 118,
   "metadata": {},
   "outputs": [
    {
     "name": "stdout",
     "output_type": "stream",
     "text": [
      "[[1 2 3]\n",
      " [4 5 6]] \n",
      "\n",
      "[[1 2 3]] \n",
      "\n",
      "[[2 3]\n",
      " [5 6]] \n",
      "\n"
     ]
    }
   ],
   "source": [
    "# nparray Slicing 해보기\n",
    "\n",
    "arr_1 = arr[:1, :3]\n",
    "# :1 -> 앞 에서 부터 1번 list까지 -> [1,2,3]중에서\n",
    "# 0:3 -> index 0에서 2까지 -> [1,2]추출 \n",
    "# 실제로 index 3의 데이터는 존재 하지 않지만, 문법상 int type의 slicing은 a:b-1 까지 취급\n",
    "\n",
    "arr_2 = arr[ :2, 1:3 ]\n",
    "# :2 -> 앞 에서 부터 2번 list까지 -> [1,2,3], [4,5,6] 중에서\n",
    "# 1:3 -> index 1에서 2까지 -> [2,3], [5,6] 추출 \n",
    "\n",
    "print(arr,'\\n')\n",
    "print(arr_1,'\\n')\n",
    "print(arr_2,'\\n')"
   ]
  },
  {
   "cell_type": "code",
   "execution_count": null,
   "metadata": {},
   "outputs": [],
   "source": [
    "# nparray 원하는 값 추출하기\n",
    "\n",
    "arr = np.array([[1,2,3],\n",
    "                [4,5,6],\n",
    "                [7,8,9]])\n",
    "arr[0,2] # 0번째의 2번째 -> 3번"
   ]
  }
 ],
 "metadata": {
  "kernelspec": {
   "display_name": "base",
   "language": "python",
   "name": "python3"
  },
  "language_info": {
   "codemirror_mode": {
    "name": "ipython",
    "version": 3
   },
   "file_extension": ".py",
   "mimetype": "text/x-python",
   "name": "python",
   "nbconvert_exporter": "python",
   "pygments_lexer": "ipython3",
   "version": "3.10.9"
  },
  "orig_nbformat": 4
 },
 "nbformat": 4,
 "nbformat_minor": 2
}
