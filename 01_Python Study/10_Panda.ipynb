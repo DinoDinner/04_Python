{
 "cells": [
  {
   "cell_type": "code",
   "execution_count": 1,
   "metadata": {},
   "outputs": [],
   "source": [
    "# Pandas\n",
    "\n",
    "import pandas as pd # pandas module을 ps로 aliasing!\n",
    "from pandas import Series, DataFrame # 두 가지 class을 동시에 가져올수 있음\n",
    "# Series class : DataFrame을 구성하는 각각의 column이 series!\n",
    "# https://kimkyunghwan-jinjinghuan.tistory.com/439 -> Series 클래스에 대해\n",
    "\n",
    "# DataFrame class : Data를 표의 형태로 처리하는 자료구조, Table로 만들 수 있다.\n",
    "# class pandas.DataFrame(data=None, index=None, columns=None, copy=None) 의 params를 가진다.\n",
    "# https://hong-sam.tistory.com/100 -> DataFrame에 대해"
   ]
  }
 ],
 "metadata": {
  "kernelspec": {
   "display_name": "base",
   "language": "python",
   "name": "python3"
  },
  "language_info": {
   "codemirror_mode": {
    "name": "ipython",
    "version": 3
   },
   "file_extension": ".py",
   "mimetype": "text/x-python",
   "name": "python",
   "nbconvert_exporter": "python",
   "pygments_lexer": "ipython3",
   "version": "3.10.9"
  },
  "orig_nbformat": 4
 },
 "nbformat": 4,
 "nbformat_minor": 2
}
