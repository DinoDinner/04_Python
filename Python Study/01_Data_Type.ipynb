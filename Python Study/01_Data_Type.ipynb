{
  "cells": [
    {
      "cell_type": "markdown",
      "metadata": {
        "colab_type": "text",
        "id": "view-in-github"
      },
      "source": [
        "<a href=\"https://colab.research.google.com/github/DinoDinner/ReadMe/blob/main/Python_01_%EB%8D%B0%EC%9D%B4%ED%84%B0_%ED%83%80%EC%9E%85.ipynb\" target=\"_parent\"><img src=\"https://colab.research.google.com/assets/colab-badge.svg\" alt=\"Open In Colab\"/></a>"
      ]
    },
    {
      "cell_type": "code",
      "execution_count": 1,
      "metadata": {
        "colab": {
          "base_uri": "https://localhost:8080/"
        },
        "id": "5PxVip1LDOz1",
        "outputId": "9735bdf9-d686-48e9-8f70-03cc2f6f7cc3"
      },
      "outputs": [
        {
          "name": "stdout",
          "output_type": "stream",
          "text": [
            "Hello World\n"
          ]
        }
      ],
      "source": [
        "print('Hello World')"
      ]
    },
    {
      "cell_type": "code",
      "execution_count": 3,
      "metadata": {
        "colab": {
          "base_uri": "https://localhost:8080/"
        },
        "id": "kvTt2kQfDeNH",
        "outputId": "96a3c5c4-1d4d-4df7-8e50-6b9fe9bd3fcd"
      },
      "outputs": [
        {
          "name": "stdout",
          "output_type": "stream",
          "text": [
            "2 100\n"
          ]
        }
      ],
      "source": [
        "# 변수 규칙\n",
        "a = 1\n",
        "b = 2\n",
        "#2a = 3 항상 변수는 문자로 시작해야 한다. \n",
        "student_count= 100 # 가급적 풀 워드로 짓는다.\n",
        "address = ''       # 가급적 정확한 영어로 짓는다. \n",
        "print(a * b, student_count)"
      ]
    },
    {
      "cell_type": "code",
      "execution_count": 5,
      "metadata": {
        "colab": {
          "base_uri": "https://localhost:8080/"
        },
        "id": "sasrLEDJJtWL",
        "outputId": "8e6fb217-bb09-45a6-a444-31994adf463a"
      },
      "outputs": [
        {
          "name": "stdout",
          "output_type": "stream",
          "text": [
            "1\n",
            "10\n"
          ]
        }
      ],
      "source": [
        "# 대소문자를 구별한다. \n",
        "# friend 와 Friend는 각각 따로 저장공간에 들어간다.\n",
        "# class 이름과 변수는 자신만의 규칙으로 설정하는 것이 좋다.\n",
        "\n",
        "friend = 1\n",
        "Friend = 10\n",
        "print(friend)\n",
        "print(Friend)"
      ]
    },
    {
      "cell_type": "code",
      "execution_count": null,
      "metadata": {
        "colab": {
          "base_uri": "https://localhost:8080/",
          "height": 133
        },
        "id": "-IHaM7oBQAf_",
        "outputId": "4fb9bae7-55d7-45fa-cd55-a8bff9952e0f"
      },
      "outputs": [
        {
          "ename": "SyntaxError",
          "evalue": "ignored",
          "output_type": "error",
          "traceback": [
            "\u001b[0;36m  File \u001b[0;32m\"<ipython-input-11-0506ebf6d873>\"\u001b[0;36m, line \u001b[0;32m2\u001b[0m\n\u001b[0;31m    for = 1\u001b[0m\n\u001b[0m        ^\u001b[0m\n\u001b[0;31mSyntaxError\u001b[0m\u001b[0;31m:\u001b[0m invalid syntax\n"
          ]
        }
      ],
      "source": [
        "# 예약어는 사용할 수 없다. \n",
        "#for는 미리 반복문으로 사용하기 위한 단어 = 예약어. jupyter 노트북에서 다르게 색이 다르게 나옴.\n",
        "\n",
        "for = 1"
      ]
    },
    {
      "cell_type": "code",
      "execution_count": null,
      "metadata": {
        "colab": {
          "base_uri": "https://localhost:8080/"
        },
        "id": "7CRW-b4GQ06c",
        "outputId": "bf5484e4-1e75-4500-f271-40d25a11d41f"
      },
      "outputs": [
        {
          "name": "stdout",
          "output_type": "stream",
          "text": [
            "2023 4\n"
          ]
        }
      ],
      "source": [
        "# 숫자형 \n",
        "\n",
        "year = 2023\n",
        "month = 4\n",
        "print(year, month)"
      ]
    },
    {
      "cell_type": "code",
      "execution_count": null,
      "metadata": {
        "colab": {
          "base_uri": "https://localhost:8080/"
        },
        "id": "4fmxB0z7RNFS",
        "outputId": "d56c1e65-d3fb-44dc-f1d7-b285beae5bb4"
      },
      "outputs": [
        {
          "name": "stdout",
          "output_type": "stream",
          "text": [
            "<class 'int'>\n",
            "<class 'str'>\n"
          ]
        }
      ],
      "source": [
        "# type() 데이터의 타입을 확인하는 함수\n",
        "\n",
        "year = 2023\n",
        "print(type(year))\n",
        "year = '이천이십삼년'\n",
        "print(type(year))"
      ]
    },
    {
      "cell_type": "code",
      "execution_count": null,
      "metadata": {
        "colab": {
          "base_uri": "https://localhost:8080/"
        },
        "id": "YG4ZkrblRZYd",
        "outputId": "e9142d71-581a-4c7c-a0aa-623543118884"
      },
      "outputs": [
        {
          "name": "stdout",
          "output_type": "stream",
          "text": [
            "8\n",
            "2\n",
            "16\n"
          ]
        }
      ],
      "source": [
        "# 8진수\n",
        "# 정수 앞에 0o를 붙이면 8진수\n",
        "# 정수 앞에 0b를 붙이면 2진수\n",
        "# 정수 앞에 0x를 붙이면 16진수\n",
        "\n",
        "print(0o10)\n",
        "print(0b10)\n",
        "print(0x10)"
      ]
    },
    {
      "cell_type": "code",
      "execution_count": null,
      "metadata": {
        "colab": {
          "base_uri": "https://localhost:8080/"
        },
        "id": "sSSM81IRSaoA",
        "outputId": "76d0e418-f441-4a50-bbb2-1b122b9f9cee"
      },
      "outputs": [
        {
          "name": "stdout",
          "output_type": "stream",
          "text": [
            "0o46\n",
            "0x26\n",
            "0b100110\n"
          ]
        }
      ],
      "source": [
        "# 다음은 10진수를 받아서 각 진수로 변환하는 방법 (결과가 문자형)\n",
        "\n",
        "print(oct(38))  # 10진수 38을 8진수로 변환\n",
        "print(hex(38))  # 10진수 38을 16진수로 변환\n",
        "print(bin(38))  # 10진수 38을 2진수로 변환"
      ]
    },
    {
      "cell_type": "code",
      "execution_count": null,
      "metadata": {
        "colab": {
          "base_uri": "https://localhost:8080/"
        },
        "id": "jZ0kQOAoTmc1",
        "outputId": "78ddbc12-1048-46cf-aa7a-f8dd189726ba"
      },
      "outputs": [
        {
          "name": "stdout",
          "output_type": "stream",
          "text": [
            "<class 'int'>\n",
            "<class 'int'>\n"
          ]
        }
      ],
      "source": [
        "# 파이썬의 정수 타입\n",
        "\n",
        "print(type(1))      #int\n",
        "print(type(2**31))  #2의 31승 파이썬 3.0 int 형으로 정수형 통합"
      ]
    },
    {
      "cell_type": "code",
      "execution_count": null,
      "metadata": {
        "colab": {
          "base_uri": "https://localhost:8080/"
        },
        "id": "DsY4ZMgAUUVk",
        "outputId": "cbd215a6-3f58-484f-fc76-c60ec622b88c"
      },
      "outputs": [
        {
          "name": "stdout",
          "output_type": "stream",
          "text": [
            "<class 'float'>\n",
            "<class 'float'>\n",
            "<class 'complex'>\n",
            "-4.0\n",
            "3.0\n",
            "(3+4j)\n"
          ]
        }
      ],
      "source": [
        "# 실수의 표현\n",
        "\n",
        "print(type(3.14))\n",
        "print(type(314e-2))  # 3.14로 동일하게 출력 됨\n",
        "print(type(3 - 4j))    # 복소수 = complex type\n",
        "x = 3 - 4j\n",
        "print(x.imag)         # imag는 허수부\n",
        "print(x.real)         # real는 실수부\n",
        "print(x.conjugate())  # conjuage는 켤레 복소수 확인"
      ]
    },
    {
      "cell_type": "code",
      "execution_count": null,
      "metadata": {
        "colab": {
          "base_uri": "https://localhost:8080/"
        },
        "id": "Z6YTf-IvVAEE",
        "outputId": "3573cb63-c3df-4029-8edf-dc528d45e26a"
      },
      "outputs": [
        {
          "name": "stdout",
          "output_type": "stream",
          "text": [
            "12.56\n",
            "6.0\n"
          ]
        }
      ],
      "source": [
        "# 원의 넓이와 삼각형 넓이 구하기\n",
        "r = 2\n",
        "circle_area = (r ** 2) * 3.14\n",
        "print(circle_area)\n",
        "\n",
        "x = 3\n",
        "y = 4\n",
        "triangle_area = x * y / 2\n",
        "print(triangle_area)"
      ]
    },
    {
      "cell_type": "code",
      "execution_count": null,
      "metadata": {
        "colab": {
          "base_uri": "https://localhost:8080/"
        },
        "id": "EcAyXe7TVUt4",
        "outputId": "c8962761-c780-4a17-9887-1d5b9b45b8d4"
      },
      "outputs": [
        {
          "name": "stdout",
          "output_type": "stream",
          "text": [
            "Hello World\n",
            "Hello World\n",
            "Welcome to 'Python World'\n"
          ]
        }
      ],
      "source": [
        "# 문자형 실습\n",
        "\n",
        "print('Hello World')\n",
        "print(\"Hello World\")\n",
        "print(\"Welcome to 'Python World'\")"
      ]
    },
    {
      "cell_type": "code",
      "execution_count": null,
      "metadata": {
        "colab": {
          "base_uri": "https://localhost:8080/"
        },
        "id": "-E4ssK9PpOR4",
        "outputId": "486cd941-266c-4af7-f18e-2a1eec2d7d41"
      },
      "outputs": [
        {
          "name": "stdout",
          "output_type": "stream",
          "text": [
            "\n",
            "항상 태양을 바라보아라\n",
            "그리하면 너는 그림자를 볼 수 없을 것이다. \n",
            "\n",
            "              - 헬렌켈러\n",
            "\n"
          ]
        }
      ],
      "source": [
        "# (''' text  ''') '를 3개를 넣어서 문단을 만들 수 있다.\n",
        "\n",
        "print('''\n",
        "항상 태양을 바라보아라\n",
        "그리하면 너는 그림자를 볼 수 없을 것이다. \n",
        "\n",
        "              - 헬렌켈러\n",
        "''')"
      ]
    },
    {
      "cell_type": "code",
      "execution_count": null,
      "metadata": {
        "colab": {
          "base_uri": "https://localhost:8080/"
        },
        "id": "D94_S4DYp04b",
        "outputId": "edc04848-68b3-4399-e4b4-af0d393babee"
      },
      "outputs": [
        {
          "name": "stdout",
          "output_type": "stream",
          "text": [
            "\t탭 \n",
            "다음줄\n"
          ]
        }
      ],
      "source": [
        "print('\\t탭 \\n다음줄')"
      ]
    },
    {
      "cell_type": "code",
      "execution_count": null,
      "metadata": {
        "colab": {
          "base_uri": "https://localhost:8080/"
        },
        "id": "B0TtZBHHqLgg",
        "outputId": "512affb1-9d1f-436f-a2ab-186cdb5aa8b1"
      },
      "outputs": [
        {
          "name": "stdout",
          "output_type": "stream",
          "text": [
            "python\n",
            "python\n"
          ]
        }
      ],
      "source": [
        "print('py' 'thon')\n",
        "print('py' + 'thon')"
      ]
    },
    {
      "cell_type": "code",
      "execution_count": null,
      "metadata": {
        "colab": {
          "base_uri": "https://localhost:8080/"
        },
        "id": "9rYe7Q49qXus",
        "outputId": "8da3e9cd-6c65-4c17-b618-ce522ba6e1ad"
      },
      "outputs": [
        {
          "name": "stdout",
          "output_type": "stream",
          "text": [
            "pypypy\n"
          ]
        }
      ],
      "source": [
        "print('py' * 3)"
      ]
    },
    {
      "cell_type": "code",
      "execution_count": null,
      "metadata": {
        "id": "07NqSzmYqzLH"
      },
      "outputs": [],
      "source": [
        "a = 'Python' # a를 정의"
      ]
    },
    {
      "cell_type": "code",
      "execution_count": null,
      "metadata": {
        "colab": {
          "base_uri": "https://localhost:8080/"
        },
        "id": "TJK_SLlNrAXe",
        "outputId": "33985765-5c65-4cb6-bbc5-e67371e0d894"
      },
      "outputs": [
        {
          "name": "stdout",
          "output_type": "stream",
          "text": [
            "P\n",
            "y\n",
            "t\n"
          ]
        }
      ],
      "source": [
        "print(a[0])     # a의 0번째 열\n",
        "print(a[0+1])   # a의 1번째 열\n",
        "print(a[2])     #a의 2번째 열"
      ]
    },
    {
      "cell_type": "code",
      "execution_count": 6,
      "metadata": {
        "colab": {
          "base_uri": "https://localhost:8080/",
          "height": 168
        },
        "id": "2CmyMZJ9rvh0",
        "outputId": "c5238f5a-4d05-4319-90c6-9592ce427649"
      },
      "outputs": [
        {
          "ename": "TypeError",
          "evalue": "'int' object does not support item assignment",
          "output_type": "error",
          "traceback": [
            "\u001b[1;31m---------------------------------------------------------------------------\u001b[0m",
            "\u001b[1;31mTypeError\u001b[0m                                 Traceback (most recent call last)",
            "Cell \u001b[1;32mIn[6], line 1\u001b[0m\n\u001b[1;32m----> 1\u001b[0m a[\u001b[39m0\u001b[39m] \u001b[39m=\u001b[39m \u001b[39m'\u001b[39m\u001b[39mA\u001b[39m\u001b[39m'\u001b[39m\n",
            "\u001b[1;31mTypeError\u001b[0m: 'int' object does not support item assignment"
          ]
        }
      ],
      "source": [
        "# Python 내에서 배열을 수정 할 수 없다.\n",
        "# a의 0번째를 'A' 로 바꾸고 싶다?\n",
        "\n",
        "a[0] = 'A' # index read-only 속성이라 수정은 불가능합니다. -> 단 방향 속성"
      ]
    },
    {
      "cell_type": "code",
      "execution_count": null,
      "metadata": {
        "colab": {
          "base_uri": "https://localhost:8080/"
        },
        "id": "EpyqlPT9sCf5",
        "outputId": "8fb3a51b-8ca1-4148-fda9-43d1ade6ff3c"
      },
      "outputs": [
        {
          "name": "stdout",
          "output_type": "stream",
          "text": [
            "P\n",
            "yth\n",
            "Py\n",
            "thon\n",
            "on\n",
            "Python\n",
            "Pto\n"
          ]
        }
      ],
      "source": [
        "# index를 이용해서 범위를 설정할 수 있다. \n",
        "\n",
        "print(a[0:1])   # a의 0~1 사이를 가져와라 -> Slice 기법\n",
        "print(a[1:4])\n",
        "print(a[:2])      #생략은 해당 방향의 끝을 나타낸다.\n",
        "print(a[2:])\n",
        "print(a[-2:])\n",
        "print(a[:])\n",
        "print(a[::2])"
      ]
    },
    {
      "cell_type": "code",
      "execution_count": null,
      "metadata": {
        "colab": {
          "base_uri": "https://localhost:8080/"
        },
        "id": "jyM6_GJqshrq",
        "outputId": "df6d1caa-cf55-4167-f903-6374051c98f0"
      },
      "outputs": [
        {
          "name": "stdout",
          "output_type": "stream",
          "text": [
            "3.14\n",
            "49\n",
            "23.0\n"
          ]
        }
      ],
      "source": [
        "# 데이터 타입의 변환\n",
        "\n",
        "print(str(3.14))      # 문자형으로 변환\n",
        "print(int('49'))      # 정수형으로 변환\n",
        "print(float(23))      # 실수형으로 변환\n"
      ]
    },
    {
      "cell_type": "code",
      "execution_count": null,
      "metadata": {
        "id": "SAA4myDKuTeh"
      },
      "outputs": [],
      "source": []
    }
  ],
  "metadata": {
    "colab": {
      "include_colab_link": true,
      "provenance": []
    },
    "kernelspec": {
      "display_name": "Python 3",
      "name": "python3"
    },
    "language_info": {
      "codemirror_mode": {
        "name": "ipython",
        "version": 3
      },
      "file_extension": ".py",
      "mimetype": "text/x-python",
      "name": "python",
      "nbconvert_exporter": "python",
      "pygments_lexer": "ipython3",
      "version": "3.10.9"
    }
  },
  "nbformat": 4,
  "nbformat_minor": 0
}
